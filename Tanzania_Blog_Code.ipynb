{
  "nbformat": 4,
  "nbformat_minor": 0,
  "metadata": {
    "colab": {
      "name": "Data Exploration.ipynb",
      "version": "0.3.2",
      "provenance": [],
      "include_colab_link": true
    },
    "kernelspec": {
      "name": "python3",
      "display_name": "Python 3"
    }
  },
  "cells": [
    {
      "cell_type": "markdown",
      "metadata": {
        "id": "view-in-github",
        "colab_type": "text"
      },
      "source": [
        "<a href=\"https://colab.research.google.com/github/mkirby1995/Tanzania_water_project/blob/master/Tanzania_Blog_Code.ipynb\" target=\"_parent\"><img src=\"https://colab.research.google.com/assets/colab-badge.svg\" alt=\"Open In Colab\"/></a>"
      ]
    },
    {
      "cell_type": "markdown",
      "metadata": {
        "id": "3ZtJw83nM-hB",
        "colab_type": "text"
      },
      "source": [
        "I usually find it helpful to examine a dataset's individual qualities before diving head first into cleaning, wrangleing, and feature engineering. Not every dataset is the same and different data will require a different plan of attack. Pandas provides us `.info()` which prints a DataFrame's shape (59,400 instances, and 43 features), feature names, feature types, a count of non-null values for each feature, and the DataFrame's memory usage (19.9MB), it's a real workhorse. "
      ]
    },
    {
      "cell_type": "code",
      "metadata": {
        "id": "7djHEiNtbWnL",
        "colab_type": "code",
        "outputId": "81c3f498-5f23-48d9-f52d-e8216aecda14",
        "colab": {
          "base_uri": "https://localhost:8080/",
          "height": 832
        }
      },
      "source": [
        "import pandas as pd\n",
        "\n",
        "features = 'https://raw.githubusercontent.com/mkirby1995/Tanzania_water_project/master/train_features.csv'\n",
        "target = 'https://raw.githubusercontent.com/mkirby1995/Tanzania_water_project/master/train_labels.csv'\n",
        "\n",
        "features = pd.read_csv(features)\n",
        "labels = pd.read_csv(target)\n",
        "\n",
        "df = features.merge(labels, on = features.index)\n",
        "\n",
        "df.info()"
      ],
      "execution_count": 1,
      "outputs": [
        {
          "output_type": "stream",
          "text": [
            "<class 'pandas.core.frame.DataFrame'>\n",
            "Int64Index: 59400 entries, 0 to 59399\n",
            "Data columns (total 43 columns):\n",
            "key_0                    59400 non-null int64\n",
            "id_x                     59400 non-null int64\n",
            "amount_tsh               59400 non-null float64\n",
            "date_recorded            59400 non-null object\n",
            "funder                   55765 non-null object\n",
            "gps_height               59400 non-null int64\n",
            "installer                55745 non-null object\n",
            "longitude                59400 non-null float64\n",
            "latitude                 59400 non-null float64\n",
            "wpt_name                 59400 non-null object\n",
            "num_private              59400 non-null int64\n",
            "basin                    59400 non-null object\n",
            "subvillage               59029 non-null object\n",
            "region                   59400 non-null object\n",
            "region_code              59400 non-null int64\n",
            "district_code            59400 non-null int64\n",
            "lga                      59400 non-null object\n",
            "ward                     59400 non-null object\n",
            "population               59400 non-null int64\n",
            "public_meeting           56066 non-null object\n",
            "recorded_by              59400 non-null object\n",
            "scheme_management        55523 non-null object\n",
            "scheme_name              31234 non-null object\n",
            "permit                   56344 non-null object\n",
            "construction_year        59400 non-null int64\n",
            "extraction_type          59400 non-null object\n",
            "extraction_type_group    59400 non-null object\n",
            "extraction_type_class    59400 non-null object\n",
            "management               59400 non-null object\n",
            "management_group         59400 non-null object\n",
            "payment                  59400 non-null object\n",
            "payment_type             59400 non-null object\n",
            "water_quality            59400 non-null object\n",
            "quality_group            59400 non-null object\n",
            "quantity                 59400 non-null object\n",
            "quantity_group           59400 non-null object\n",
            "source                   59400 non-null object\n",
            "source_type              59400 non-null object\n",
            "source_class             59400 non-null object\n",
            "waterpoint_type          59400 non-null object\n",
            "waterpoint_type_group    59400 non-null object\n",
            "id_y                     59400 non-null int64\n",
            "status_group             59400 non-null object\n",
            "dtypes: float64(3), int64(9), object(31)\n",
            "memory usage: 19.9+ MB\n"
          ],
          "name": "stdout"
        }
      ]
    },
    {
      "cell_type": "markdown",
      "metadata": {
        "id": "GAI-MpZZO3ca",
        "colab_type": "text"
      },
      "source": [
        "\n",
        "\n",
        "---\n",
        "\n"
      ]
    },
    {
      "cell_type": "markdown",
      "metadata": {
        "id": "rOisNtLyUKYD",
        "colab_type": "text"
      },
      "source": [
        "**Labels**\n",
        "\n",
        "There are three possible values:\n",
        "\n",
        "* functional : the waterpoint is operational and there are no repairs needed\n",
        "\n",
        "* functional needs repair : the waterpoint is operational, but needs repairs\n",
        "\n",
        "* non functional : the waterpoint is not operational"
      ]
    },
    {
      "cell_type": "markdown",
      "metadata": {
        "id": "_A8224MLTkpS",
        "colab_type": "text"
      },
      "source": [
        "**Features**\n",
        "\n",
        "Your goal is to predict the operating condition of a waterpoint for each record in the dataset.\n",
        "\n",
        "* amount_tsh : Total static head (amount water available to waterpoint)\n",
        "\n",
        "* date_recorded : The date the row was entered\n",
        "\n",
        "* funder : Who funded the well\n",
        "\n",
        "* gps_height : Altitude of the well\n",
        "\n",
        "* installer : Organization that installed the well\n",
        "\n",
        "* longitude : GPS coordinate\n",
        "\n",
        "* latitude : GPS coordinate\n",
        "\n",
        "* wpt_name : Name of the waterpoint if there is one\n",
        "\n",
        "* num_private :\n",
        "\n",
        "* basin : Geographic water basin\n",
        "\n",
        "* subvillage : Geographic location\n",
        "\n",
        "* region : Geographic location\n",
        "\n",
        "* region_code : Geographic location (coded)\n",
        "\n",
        "* district_code : Geographic location (coded)\n",
        "\n",
        "* lga : Geographic location\n",
        "\n",
        "* ward : Geographic location\n",
        "\n",
        "* population : Population around the well\n",
        "\n",
        "* public_meeting : True/False\n",
        "\n",
        "* recorded_by : Group entering this row of data\n",
        "\n",
        "* scheme_management : Who operates the waterpoint\n",
        "\n",
        "* scheme_name : Who operates the waterpoint\n",
        "\n",
        "* permit : If the waterpoint is permitted\n",
        "\n",
        "* construction_year : Year the waterpoint was constructed\n",
        "\n",
        "* extraction_type : The kind of extraction the waterpoint uses\n",
        "\n",
        "* extraction_type_group : The kind of extraction the waterpoint uses\n",
        "\n",
        "* extraction_type_class : The kind of extraction the waterpoint uses\n",
        "\n",
        "* management : How the waterpoint is managed\n",
        "\n",
        "* management_group : How the waterpoint is managed\n",
        "\n",
        "* payment : What the water costs\n",
        "\n",
        "* payment_type : What the water costs\n",
        "\n",
        "* water_quality : The quality of the water\n",
        "\n",
        "* quality_group : The quality of the water\n",
        "\n",
        "* quantity : The quantity of water\n",
        "\n",
        "* quantity_group : The quantity of water\n",
        "\n",
        "* source : The source of the water\n",
        "\n",
        "* source_type : The source of the water\n",
        "\n",
        "* source_class : The source of the water\n",
        "\n",
        "* waterpoint_type : The kind of waterpoint\n",
        "\n",
        "* waterpoint_type_group : The kind of waterpoint\n"
      ]
    },
    {
      "cell_type": "markdown",
      "metadata": {
        "id": "k2JQZnzwQQe6",
        "colab_type": "text"
      },
      "source": [
        "\n",
        "\n",
        "---\n",
        "\n"
      ]
    },
    {
      "cell_type": "markdown",
      "metadata": {
        "id": "rmWeaPl3TocJ",
        "colab_type": "text"
      },
      "source": [
        "**Clean Null Values**"
      ]
    },
    {
      "cell_type": "markdown",
      "metadata": {
        "id": "yXGQ3WfoQQ7p",
        "colab_type": "text"
      },
      "source": [
        "Finding a good place to start when attacking a dataset for the first time is not a trivial act, as there are usually multiple obvious places to begin cleaning, feature engineering, and exploreatory analysis. I'll offer some reassuring words for the reader here. Just pick a place to start, trust your intuition and just start coding, youll be fine and if you hit a brick wall don't be afraid to retreat, regroup, and attack elsewhere. We will start with cleaning some null values."
      ]
    },
    {
      "cell_type": "code",
      "metadata": {
        "id": "vMy_JCdMM7U_",
        "colab_type": "code",
        "colab": {}
      },
      "source": [
        "def null_value_counts(DataFrame):\n",
        "  feature_list = []\n",
        "  \n",
        "  null_values = []\n",
        "  \n",
        "  for _ in range(len(DataFrame.isnull().sum())):\n",
        "    if DataFrame.isnull().sum()[_] > 0:\n",
        "      feature_list.append(DataFrame.isnull().sum().index[_])\n",
        "      null_values.append(DataFrame.isnull().sum()[_])\n",
        "      \n",
        "      \n",
        "  null_dict = dict(zip(feature_list, null_values))\n",
        "  \n",
        "  return null_dict"
      ],
      "execution_count": 0,
      "outputs": []
    },
    {
      "cell_type": "code",
      "metadata": {
        "id": "SfBt7DNsQMFg",
        "colab_type": "code",
        "colab": {
          "base_uri": "https://localhost:8080/",
          "height": 136
        },
        "outputId": "deaf5145-2542-4eb3-eeeb-47b53c8c88c2"
      },
      "source": [
        "null_columns = null_value_counts(df)\n",
        "null_columns"
      ],
      "execution_count": 3,
      "outputs": [
        {
          "output_type": "execute_result",
          "data": {
            "text/plain": [
              "{'funder': 3635,\n",
              " 'installer': 3655,\n",
              " 'permit': 3056,\n",
              " 'public_meeting': 3334,\n",
              " 'scheme_management': 3877,\n",
              " 'scheme_name': 28166,\n",
              " 'subvillage': 371}"
            ]
          },
          "metadata": {
            "tags": []
          },
          "execution_count": 3
        }
      ]
    },
    {
      "cell_type": "markdown",
      "metadata": {
        "id": "13W8XnbtTAKz",
        "colab_type": "text"
      },
      "source": [
        "We will fill these null values with 0. This could be reguarded by many as a bad move, but we will andvance foreward with the assurance that we can always come back and change our strategy if we discover it causes a problem."
      ]
    },
    {
      "cell_type": "code",
      "metadata": {
        "id": "2tXUog8dRdar",
        "colab_type": "code",
        "colab": {}
      },
      "source": [
        "for column in null_columns.keys():\n",
        "  df[column] = df[column].fillna(0)"
      ],
      "execution_count": 0,
      "outputs": []
    },
    {
      "cell_type": "markdown",
      "metadata": {
        "id": "FytGmSt1TlZP",
        "colab_type": "text"
      },
      "source": [
        "\n",
        "\n",
        "---\n",
        "\n"
      ]
    },
    {
      "cell_type": "markdown",
      "metadata": {
        "id": "iXj4Gl2qWjfm",
        "colab_type": "text"
      },
      "source": [
        "Next lets do some exploratory visualization"
      ]
    },
    {
      "cell_type": "markdown",
      "metadata": {
        "id": "_1jPCbnEZJl-",
        "colab_type": "text"
      },
      "source": [
        "A litle feature engineering"
      ]
    },
    {
      "cell_type": "code",
      "metadata": {
        "id": "drp5wUEKZMls",
        "colab_type": "code",
        "colab": {}
      },
      "source": [
        "df['construction_year'] = df['construction_year'].replace({0:1993})\n",
        "df['age'] = df['date_recorded'].astype(str).str[:4].astype(int) - df['construction_year']"
      ],
      "execution_count": 0,
      "outputs": []
    },
    {
      "cell_type": "code",
      "metadata": {
        "id": "AV0f_t8oZqPH",
        "colab_type": "code",
        "colab": {
          "base_uri": "https://localhost:8080/",
          "height": 170
        },
        "outputId": "808d611a-2175-4939-8373-ab379b532570"
      },
      "source": [
        "df['age'].describe()"
      ],
      "execution_count": 6,
      "outputs": [
        {
          "output_type": "execute_result",
          "data": {
            "text/plain": [
              "count    59400.000000\n",
              "mean        16.436919\n",
              "std         10.198729\n",
              "min         -7.000000\n",
              "25%          8.000000\n",
              "50%         18.000000\n",
              "75%         19.000000\n",
              "max         53.000000\n",
              "Name: age, dtype: float64"
            ]
          },
          "metadata": {
            "tags": []
          },
          "execution_count": 6
        }
      ]
    },
    {
      "cell_type": "code",
      "metadata": {
        "id": "Rq6Y9SvvW3dT",
        "colab_type": "code",
        "colab": {}
      },
      "source": [
        "import matplotlib.pyplot as plt\n",
        "import numpy as np"
      ],
      "execution_count": 0,
      "outputs": []
    },
    {
      "cell_type": "markdown",
      "metadata": {
        "id": "1Avjcv-5gC1V",
        "colab_type": "text"
      },
      "source": [
        "A Little more engineering scaling encoding etc."
      ]
    },
    {
      "cell_type": "code",
      "metadata": {
        "id": "GkSy6bEnjsYj",
        "colab_type": "code",
        "colab": {}
      },
      "source": [
        "def reverse_cardinality_check(n, df):\n",
        "  \"\"\"\n",
        "  Given a cardinality limit (n) and a dataframe this function will search the\n",
        "  dataframe for features above the cardinality limit, then create a dict\n",
        "  from the results\n",
        "  \"\"\"\n",
        "  \n",
        "  feature_list = []\n",
        "  \n",
        "  cardinality_value = []\n",
        "  \n",
        "  for _ in range(len(df.columns)):\n",
        "    if len(df[df.columns[_]].value_counts()) > n:\n",
        "      \n",
        "      feature_list.append(df.columns[_])\n",
        "      \n",
        "      cardinality_value.append(len(df[df.columns[_]].value_counts()))\n",
        "                               \n",
        "        \n",
        "  feature_dict = dict(zip(feature_list, cardinality_value))\n",
        "  \n",
        "  return feature_dict"
      ],
      "execution_count": 0,
      "outputs": []
    },
    {
      "cell_type": "code",
      "metadata": {
        "id": "XocS7OQtkTec",
        "colab_type": "code",
        "colab": {}
      },
      "source": [
        "df = df.drop(columns=['status_group', 'key_0'])"
      ],
      "execution_count": 0,
      "outputs": []
    },
    {
      "cell_type": "code",
      "metadata": {
        "id": "LvhbzldKgH23",
        "colab_type": "code",
        "colab": {}
      },
      "source": [
        "df['pop/year'] = df['population'].replace({0:1}) / df['age'].replace({0:1})"
      ],
      "execution_count": 0,
      "outputs": []
    },
    {
      "cell_type": "code",
      "metadata": {
        "id": "zvFe75IAgJ64",
        "colab_type": "code",
        "colab": {}
      },
      "source": [
        "df['water_/_person'] = df['amount_tsh'].replace({0:1}) / df['population'].replace({0:1})"
      ],
      "execution_count": 0,
      "outputs": []
    },
    {
      "cell_type": "code",
      "metadata": {
        "id": "IFACFQwvOn4k",
        "colab_type": "code",
        "outputId": "445c2c2b-9906-4735-96c7-44b82f04efcc",
        "colab": {
          "base_uri": "https://localhost:8080/",
          "height": 271
        }
      },
      "source": [
        "high_cardinality_feature_dict = reverse_cardinality_check(150, df)\n",
        "high_cardinality_feature_dict"
      ],
      "execution_count": 12,
      "outputs": [
        {
          "output_type": "execute_result",
          "data": {
            "text/plain": [
              "{'date_recorded': 356,\n",
              " 'funder': 1898,\n",
              " 'gps_height': 2428,\n",
              " 'id_x': 59400,\n",
              " 'id_y': 59400,\n",
              " 'installer': 2146,\n",
              " 'latitude': 57517,\n",
              " 'longitude': 57516,\n",
              " 'pop/year': 4421,\n",
              " 'population': 1049,\n",
              " 'scheme_name': 2697,\n",
              " 'subvillage': 19288,\n",
              " 'ward': 2092,\n",
              " 'water_/_person': 2633,\n",
              " 'wpt_name': 37400}"
            ]
          },
          "metadata": {
            "tags": []
          },
          "execution_count": 12
        }
      ]
    },
    {
      "cell_type": "code",
      "metadata": {
        "id": "g5gHUxUjPOdY",
        "colab_type": "code",
        "outputId": "b9646844-1391-4682-caa0-ea1a069c60ef",
        "colab": {
          "base_uri": "https://localhost:8080/",
          "height": 152
        }
      },
      "source": [
        "low_cardinality_features = df.drop(columns = list(high_cardinality_feature_dict.keys()))\n",
        "low_cardinality_features.columns"
      ],
      "execution_count": 13,
      "outputs": [
        {
          "output_type": "execute_result",
          "data": {
            "text/plain": [
              "Index(['amount_tsh', 'num_private', 'basin', 'region', 'region_code',\n",
              "       'district_code', 'lga', 'public_meeting', 'recorded_by',\n",
              "       'scheme_management', 'permit', 'construction_year', 'extraction_type',\n",
              "       'extraction_type_group', 'extraction_type_class', 'management',\n",
              "       'management_group', 'payment', 'payment_type', 'water_quality',\n",
              "       'quality_group', 'quantity', 'quantity_group', 'source', 'source_type',\n",
              "       'source_class', 'waterpoint_type', 'waterpoint_type_group', 'age'],\n",
              "      dtype='object')"
            ]
          },
          "metadata": {
            "tags": []
          },
          "execution_count": 13
        }
      ]
    },
    {
      "cell_type": "code",
      "metadata": {
        "id": "pE7qxOQNPg6h",
        "colab_type": "code",
        "outputId": "25ca4e0c-04e4-4068-a911-f79c5e7ce737",
        "colab": {
          "base_uri": "https://localhost:8080/",
          "height": 84
        }
      },
      "source": [
        "high_cardinality_features = df[list(high_cardinality_feature_dict.keys())]\n",
        "high_cardinality_features.columns"
      ],
      "execution_count": 14,
      "outputs": [
        {
          "output_type": "execute_result",
          "data": {
            "text/plain": [
              "Index(['id_x', 'date_recorded', 'funder', 'gps_height', 'installer',\n",
              "       'longitude', 'latitude', 'wpt_name', 'subvillage', 'ward', 'population',\n",
              "       'scheme_name', 'id_y', 'pop/year', 'water_/_person'],\n",
              "      dtype='object')"
            ]
          },
          "metadata": {
            "tags": []
          },
          "execution_count": 14
        }
      ]
    },
    {
      "cell_type": "code",
      "metadata": {
        "id": "mZsF07O4kj4i",
        "colab_type": "code",
        "colab": {
          "base_uri": "https://localhost:8080/",
          "height": 381
        },
        "outputId": "79d0af02-8130-42cb-f878-1204aad1c68a"
      },
      "source": [
        "!pip install category_encoders"
      ],
      "execution_count": 15,
      "outputs": [
        {
          "output_type": "stream",
          "text": [
            "Collecting category_encoders\n",
            "\u001b[?25l  Downloading https://files.pythonhosted.org/packages/6e/a1/f7a22f144f33be78afeb06bfa78478e8284a64263a3c09b1ef54e673841e/category_encoders-2.0.0-py2.py3-none-any.whl (87kB)\n",
            "\u001b[K     |████████████████████████████████| 92kB 5.7MB/s \n",
            "\u001b[?25hRequirement already satisfied: numpy>=1.11.3 in /usr/local/lib/python3.6/dist-packages (from category_encoders) (1.16.3)\n",
            "Requirement already satisfied: scipy>=0.19.0 in /usr/local/lib/python3.6/dist-packages (from category_encoders) (1.3.0)\n",
            "Requirement already satisfied: statsmodels>=0.6.1 in /usr/local/lib/python3.6/dist-packages (from category_encoders) (0.9.0)\n",
            "Requirement already satisfied: scikit-learn>=0.20.0 in /usr/local/lib/python3.6/dist-packages (from category_encoders) (0.21.1)\n",
            "Requirement already satisfied: pandas>=0.21.1 in /usr/local/lib/python3.6/dist-packages (from category_encoders) (0.24.2)\n",
            "Requirement already satisfied: patsy>=0.4.1 in /usr/local/lib/python3.6/dist-packages (from category_encoders) (0.5.1)\n",
            "Requirement already satisfied: joblib>=0.11 in /usr/local/lib/python3.6/dist-packages (from scikit-learn>=0.20.0->category_encoders) (0.12.5)\n",
            "Requirement already satisfied: python-dateutil>=2.5.0 in /usr/local/lib/python3.6/dist-packages (from pandas>=0.21.1->category_encoders) (2.5.3)\n",
            "Requirement already satisfied: pytz>=2011k in /usr/local/lib/python3.6/dist-packages (from pandas>=0.21.1->category_encoders) (2018.9)\n",
            "Requirement already satisfied: six in /usr/local/lib/python3.6/dist-packages (from patsy>=0.4.1->category_encoders) (1.12.0)\n",
            "Installing collected packages: category-encoders\n",
            "Successfully installed category-encoders-2.0.0\n"
          ],
          "name": "stdout"
        }
      ]
    },
    {
      "cell_type": "code",
      "metadata": {
        "id": "e8XKcU35kgMa",
        "colab_type": "code",
        "colab": {}
      },
      "source": [
        "import category_encoders as ce\n",
        "from sklearn.preprocessing import RobustScaler\n",
        "from sklearn.impute import SimpleImputer"
      ],
      "execution_count": 0,
      "outputs": []
    },
    {
      "cell_type": "code",
      "metadata": {
        "id": "BDJryB4rPy9L",
        "colab_type": "code",
        "colab": {}
      },
      "source": [
        "one_hot_encode = ce.OneHotEncoder(use_cat_names=True)\n",
        "one_hot_encode.fit(low_cardinality_features, labels['status_group'])\n",
        "low_cardinality_features = one_hot_encode.transform(low_cardinality_features)\n",
        "\n",
        "ordinal_encode = ce.OrdinalEncoder()\n",
        "ordinal_encode.fit(high_cardinality_features, labels['status_group'])\n",
        "high_cardinality_features = ordinal_encode.transform(high_cardinality_features)"
      ],
      "execution_count": 0,
      "outputs": []
    },
    {
      "cell_type": "code",
      "metadata": {
        "id": "s2jPAVqCQbdg",
        "colab_type": "code",
        "colab": {}
      },
      "source": [
        "features = low_cardinality_features.merge(high_cardinality_features,\n",
        "                                          on = low_cardinality_features.index)"
      ],
      "execution_count": 0,
      "outputs": []
    },
    {
      "cell_type": "code",
      "metadata": {
        "id": "vlXBbSjmtlKZ",
        "colab_type": "code",
        "outputId": "ca722162-2858-4700-ccba-50f9dd87572d",
        "colab": {
          "base_uri": "https://localhost:8080/",
          "height": 136
        }
      },
      "source": [
        "feature_names = features.columns\n",
        "feature_names"
      ],
      "execution_count": 19,
      "outputs": [
        {
          "output_type": "execute_result",
          "data": {
            "text/plain": [
              "Index(['key_0', 'amount_tsh', 'num_private', 'basin_Lake Nyasa',\n",
              "       'basin_Lake Victoria', 'basin_Pangani', 'basin_Ruvuma / Southern Coast',\n",
              "       'basin_Internal', 'basin_Lake Tanganyika', 'basin_Wami / Ruvu',\n",
              "       ...\n",
              "       'longitude', 'latitude', 'wpt_name', 'subvillage', 'ward', 'population',\n",
              "       'scheme_name', 'id_y', 'pop/year', 'water_/_person'],\n",
              "      dtype='object', length=321)"
            ]
          },
          "metadata": {
            "tags": []
          },
          "execution_count": 19
        }
      ]
    },
    {
      "cell_type": "code",
      "metadata": {
        "id": "lCfUMTzAReSQ",
        "colab_type": "code",
        "colab": {}
      },
      "source": [
        "imputer = SimpleImputer(missing_values=np.nan, strategy='mean')\n",
        "imputer.fit(features, labels['status_group'])\n",
        "features = imputer.transform(features)"
      ],
      "execution_count": 0,
      "outputs": []
    },
    {
      "cell_type": "code",
      "metadata": {
        "id": "kMbCLznxSIJu",
        "colab_type": "code",
        "colab": {}
      },
      "source": [
        "scaler = RobustScaler()\n",
        "scaler.fit(features, labels['status_group'])\n",
        "features = scaler.transform(features)"
      ],
      "execution_count": 0,
      "outputs": []
    },
    {
      "cell_type": "markdown",
      "metadata": {
        "id": "GXjW9gPNdQea",
        "colab_type": "text"
      },
      "source": [
        "Lets baseline "
      ]
    },
    {
      "cell_type": "code",
      "metadata": {
        "id": "t7clXYV1da1y",
        "colab_type": "code",
        "colab": {}
      },
      "source": [
        "X_matrix, y_vector = features, labels['status_group']"
      ],
      "execution_count": 0,
      "outputs": []
    },
    {
      "cell_type": "code",
      "metadata": {
        "id": "eQyImFlkdRo9",
        "colab_type": "code",
        "colab": {
          "base_uri": "https://localhost:8080/",
          "height": 84
        },
        "outputId": "2c10a09c-5ce4-438c-d17a-30f2f060705b"
      },
      "source": [
        "majority_class = y_vector.mode()\n",
        "\n",
        "y_vector.value_counts(normalize=True)"
      ],
      "execution_count": 26,
      "outputs": [
        {
          "output_type": "execute_result",
          "data": {
            "text/plain": [
              "functional                 0.543081\n",
              "non functional             0.384242\n",
              "functional needs repair    0.072677\n",
              "Name: status_group, dtype: float64"
            ]
          },
          "metadata": {
            "tags": []
          },
          "execution_count": 26
        }
      ]
    },
    {
      "cell_type": "code",
      "metadata": {
        "id": "KD35umfSdaGv",
        "colab_type": "code",
        "colab": {
          "base_uri": "https://localhost:8080/",
          "height": 34
        },
        "outputId": "0873393c-5bc8-4508-de2e-e4ad7e5ccac9"
      },
      "source": [
        "from sklearn.metrics import accuracy_score\n",
        "\n",
        "majority_prediction = [majority_class] * len(y_vector)\n",
        "\n",
        "accuracy_score(y_vector, majority_prediction)"
      ],
      "execution_count": 27,
      "outputs": [
        {
          "output_type": "execute_result",
          "data": {
            "text/plain": [
              "0.543080808080808"
            ]
          },
          "metadata": {
            "tags": []
          },
          "execution_count": 27
        }
      ]
    },
    {
      "cell_type": "markdown",
      "metadata": {
        "id": "19x4Tjo2fUhM",
        "colab_type": "text"
      },
      "source": [
        "Lets overfit"
      ]
    },
    {
      "cell_type": "code",
      "metadata": {
        "id": "bYSBE2dffV9j",
        "colab_type": "code",
        "colab": {
          "base_uri": "https://localhost:8080/",
          "height": 118
        },
        "outputId": "979605f3-e5d8-4c0e-8d42-cf41a275ea85"
      },
      "source": [
        "from sklearn.tree import DecisionTreeClassifier\n",
        "\n",
        "decision_tree = DecisionTreeClassifier(max_depth=50)\n",
        "\n",
        "# Fit the model\n",
        "decision_tree.fit(X_matrix, y_vector)"
      ],
      "execution_count": 37,
      "outputs": [
        {
          "output_type": "execute_result",
          "data": {
            "text/plain": [
              "DecisionTreeClassifier(class_weight=None, criterion='gini', max_depth=50,\n",
              "                       max_features=None, max_leaf_nodes=None,\n",
              "                       min_impurity_decrease=0.0, min_impurity_split=None,\n",
              "                       min_samples_leaf=1, min_samples_split=2,\n",
              "                       min_weight_fraction_leaf=0.0, presort=False,\n",
              "                       random_state=None, splitter='best')"
            ]
          },
          "metadata": {
            "tags": []
          },
          "execution_count": 37
        }
      ]
    },
    {
      "cell_type": "code",
      "metadata": {
        "id": "ZypAPyk4fYR4",
        "colab_type": "code",
        "colab": {
          "base_uri": "https://localhost:8080/",
          "height": 375
        },
        "outputId": "2c107e2b-9aab-41e0-e791-38af191257dc"
      },
      "source": [
        "import graphviz\n",
        "from sklearn.tree import export_graphviz\n",
        "\n",
        "# Visualize the tree\n",
        "dot_data = export_graphviz(decision_tree, out_file=None, feature_names=feature_names,\n",
        "                           class_names=['Functional', 'Needs Repair', 'Not-Functional'],\n",
        "                           filled=True, impurity=False, proportion=True)\n",
        "\n",
        "graphviz.Source(dot_data)"
      ],
      "execution_count": 38,
      "outputs": [
        {
          "output_type": "error",
          "ename": "KeyboardInterrupt",
          "evalue": "ignored",
          "traceback": [
            "\u001b[0;31m---------------------------------------------------------------------------\u001b[0m",
            "\u001b[0;31mKeyboardInterrupt\u001b[0m                         Traceback (most recent call last)",
            "\u001b[0;32m<ipython-input-38-aa8665f5c4d2>\u001b[0m in \u001b[0;36m<module>\u001b[0;34m()\u001b[0m\n\u001b[1;32m      7\u001b[0m                            filled=True, impurity=False, proportion=True)\n\u001b[1;32m      8\u001b[0m \u001b[0;34m\u001b[0m\u001b[0m\n\u001b[0;32m----> 9\u001b[0;31m \u001b[0mgraphviz\u001b[0m\u001b[0;34m.\u001b[0m\u001b[0mSource\u001b[0m\u001b[0;34m(\u001b[0m\u001b[0mdot_data\u001b[0m\u001b[0;34m)\u001b[0m\u001b[0;34m\u001b[0m\u001b[0;34m\u001b[0m\u001b[0m\n\u001b[0m",
            "\u001b[0;32m/usr/local/lib/python3.6/dist-packages/IPython/core/displayhook.py\u001b[0m in \u001b[0;36m__call__\u001b[0;34m(self, result)\u001b[0m\n\u001b[1;32m    244\u001b[0m             \u001b[0mself\u001b[0m\u001b[0;34m.\u001b[0m\u001b[0mstart_displayhook\u001b[0m\u001b[0;34m(\u001b[0m\u001b[0;34m)\u001b[0m\u001b[0;34m\u001b[0m\u001b[0;34m\u001b[0m\u001b[0m\n\u001b[1;32m    245\u001b[0m             \u001b[0mself\u001b[0m\u001b[0;34m.\u001b[0m\u001b[0mwrite_output_prompt\u001b[0m\u001b[0;34m(\u001b[0m\u001b[0;34m)\u001b[0m\u001b[0;34m\u001b[0m\u001b[0;34m\u001b[0m\u001b[0m\n\u001b[0;32m--> 246\u001b[0;31m             \u001b[0mformat_dict\u001b[0m\u001b[0;34m,\u001b[0m \u001b[0mmd_dict\u001b[0m \u001b[0;34m=\u001b[0m \u001b[0mself\u001b[0m\u001b[0;34m.\u001b[0m\u001b[0mcompute_format_data\u001b[0m\u001b[0;34m(\u001b[0m\u001b[0mresult\u001b[0m\u001b[0;34m)\u001b[0m\u001b[0;34m\u001b[0m\u001b[0;34m\u001b[0m\u001b[0m\n\u001b[0m\u001b[1;32m    247\u001b[0m             \u001b[0mself\u001b[0m\u001b[0;34m.\u001b[0m\u001b[0mupdate_user_ns\u001b[0m\u001b[0;34m(\u001b[0m\u001b[0mresult\u001b[0m\u001b[0;34m)\u001b[0m\u001b[0;34m\u001b[0m\u001b[0;34m\u001b[0m\u001b[0m\n\u001b[1;32m    248\u001b[0m             \u001b[0mself\u001b[0m\u001b[0;34m.\u001b[0m\u001b[0mfill_exec_result\u001b[0m\u001b[0;34m(\u001b[0m\u001b[0mresult\u001b[0m\u001b[0;34m)\u001b[0m\u001b[0;34m\u001b[0m\u001b[0;34m\u001b[0m\u001b[0m\n",
            "\u001b[0;32m/usr/local/lib/python3.6/dist-packages/IPython/core/displayhook.py\u001b[0m in \u001b[0;36mcompute_format_data\u001b[0;34m(self, result)\u001b[0m\n\u001b[1;32m    148\u001b[0m \u001b[0;34m\u001b[0m\u001b[0m\n\u001b[1;32m    149\u001b[0m         \"\"\"\n\u001b[0;32m--> 150\u001b[0;31m         \u001b[0;32mreturn\u001b[0m \u001b[0mself\u001b[0m\u001b[0;34m.\u001b[0m\u001b[0mshell\u001b[0m\u001b[0;34m.\u001b[0m\u001b[0mdisplay_formatter\u001b[0m\u001b[0;34m.\u001b[0m\u001b[0mformat\u001b[0m\u001b[0;34m(\u001b[0m\u001b[0mresult\u001b[0m\u001b[0;34m)\u001b[0m\u001b[0;34m\u001b[0m\u001b[0;34m\u001b[0m\u001b[0m\n\u001b[0m\u001b[1;32m    151\u001b[0m \u001b[0;34m\u001b[0m\u001b[0m\n\u001b[1;32m    152\u001b[0m     \u001b[0;31m# This can be set to True by the write_output_prompt method in a subclass\u001b[0m\u001b[0;34m\u001b[0m\u001b[0;34m\u001b[0m\u001b[0;34m\u001b[0m\u001b[0m\n",
            "\u001b[0;32m/usr/local/lib/python3.6/dist-packages/IPython/core/formatters.py\u001b[0m in \u001b[0;36mformat\u001b[0;34m(self, obj, include, exclude)\u001b[0m\n\u001b[1;32m    171\u001b[0m             \u001b[0mmd\u001b[0m \u001b[0;34m=\u001b[0m \u001b[0;32mNone\u001b[0m\u001b[0;34m\u001b[0m\u001b[0;34m\u001b[0m\u001b[0m\n\u001b[1;32m    172\u001b[0m             \u001b[0;32mtry\u001b[0m\u001b[0;34m:\u001b[0m\u001b[0;34m\u001b[0m\u001b[0;34m\u001b[0m\u001b[0m\n\u001b[0;32m--> 173\u001b[0;31m                 \u001b[0mdata\u001b[0m \u001b[0;34m=\u001b[0m \u001b[0mformatter\u001b[0m\u001b[0;34m(\u001b[0m\u001b[0mobj\u001b[0m\u001b[0;34m)\u001b[0m\u001b[0;34m\u001b[0m\u001b[0;34m\u001b[0m\u001b[0m\n\u001b[0m\u001b[1;32m    174\u001b[0m             \u001b[0;32mexcept\u001b[0m\u001b[0;34m:\u001b[0m\u001b[0;34m\u001b[0m\u001b[0;34m\u001b[0m\u001b[0m\n\u001b[1;32m    175\u001b[0m                 \u001b[0;31m# FIXME: log the exception\u001b[0m\u001b[0;34m\u001b[0m\u001b[0;34m\u001b[0m\u001b[0;34m\u001b[0m\u001b[0m\n",
            "\u001b[0;32m</usr/local/lib/python3.6/dist-packages/decorator.py:decorator-gen-9>\u001b[0m in \u001b[0;36m__call__\u001b[0;34m(self, obj)\u001b[0m\n",
            "\u001b[0;32m/usr/local/lib/python3.6/dist-packages/IPython/core/formatters.py\u001b[0m in \u001b[0;36mcatch_format_error\u001b[0;34m(method, self, *args, **kwargs)\u001b[0m\n\u001b[1;32m    215\u001b[0m     \u001b[0;34m\"\"\"show traceback on failed format call\"\"\"\u001b[0m\u001b[0;34m\u001b[0m\u001b[0;34m\u001b[0m\u001b[0m\n\u001b[1;32m    216\u001b[0m     \u001b[0;32mtry\u001b[0m\u001b[0;34m:\u001b[0m\u001b[0;34m\u001b[0m\u001b[0;34m\u001b[0m\u001b[0m\n\u001b[0;32m--> 217\u001b[0;31m         \u001b[0mr\u001b[0m \u001b[0;34m=\u001b[0m \u001b[0mmethod\u001b[0m\u001b[0;34m(\u001b[0m\u001b[0mself\u001b[0m\u001b[0;34m,\u001b[0m \u001b[0;34m*\u001b[0m\u001b[0margs\u001b[0m\u001b[0;34m,\u001b[0m \u001b[0;34m**\u001b[0m\u001b[0mkwargs\u001b[0m\u001b[0;34m)\u001b[0m\u001b[0;34m\u001b[0m\u001b[0;34m\u001b[0m\u001b[0m\n\u001b[0m\u001b[1;32m    218\u001b[0m     \u001b[0;32mexcept\u001b[0m \u001b[0mNotImplementedError\u001b[0m\u001b[0;34m:\u001b[0m\u001b[0;34m\u001b[0m\u001b[0;34m\u001b[0m\u001b[0m\n\u001b[1;32m    219\u001b[0m         \u001b[0;31m# don't warn on NotImplementedErrors\u001b[0m\u001b[0;34m\u001b[0m\u001b[0;34m\u001b[0m\u001b[0;34m\u001b[0m\u001b[0m\n",
            "\u001b[0;32m/usr/local/lib/python3.6/dist-packages/IPython/core/formatters.py\u001b[0m in \u001b[0;36m__call__\u001b[0;34m(self, obj)\u001b[0m\n\u001b[1;32m    336\u001b[0m             \u001b[0mmethod\u001b[0m \u001b[0;34m=\u001b[0m \u001b[0mget_real_method\u001b[0m\u001b[0;34m(\u001b[0m\u001b[0mobj\u001b[0m\u001b[0;34m,\u001b[0m \u001b[0mself\u001b[0m\u001b[0;34m.\u001b[0m\u001b[0mprint_method\u001b[0m\u001b[0;34m)\u001b[0m\u001b[0;34m\u001b[0m\u001b[0;34m\u001b[0m\u001b[0m\n\u001b[1;32m    337\u001b[0m             \u001b[0;32mif\u001b[0m \u001b[0mmethod\u001b[0m \u001b[0;32mis\u001b[0m \u001b[0;32mnot\u001b[0m \u001b[0;32mNone\u001b[0m\u001b[0;34m:\u001b[0m\u001b[0;34m\u001b[0m\u001b[0;34m\u001b[0m\u001b[0m\n\u001b[0;32m--> 338\u001b[0;31m                 \u001b[0;32mreturn\u001b[0m \u001b[0mmethod\u001b[0m\u001b[0;34m(\u001b[0m\u001b[0;34m)\u001b[0m\u001b[0;34m\u001b[0m\u001b[0;34m\u001b[0m\u001b[0m\n\u001b[0m\u001b[1;32m    339\u001b[0m             \u001b[0;32mreturn\u001b[0m \u001b[0;32mNone\u001b[0m\u001b[0;34m\u001b[0m\u001b[0;34m\u001b[0m\u001b[0m\n\u001b[1;32m    340\u001b[0m         \u001b[0;32melse\u001b[0m\u001b[0;34m:\u001b[0m\u001b[0;34m\u001b[0m\u001b[0;34m\u001b[0m\u001b[0m\n",
            "\u001b[0;32m/usr/local/lib/python3.6/dist-packages/graphviz/files.py\u001b[0m in \u001b[0;36m_repr_svg_\u001b[0;34m(self)\u001b[0m\n\u001b[1;32m    104\u001b[0m \u001b[0;34m\u001b[0m\u001b[0m\n\u001b[1;32m    105\u001b[0m     \u001b[0;32mdef\u001b[0m \u001b[0m_repr_svg_\u001b[0m\u001b[0;34m(\u001b[0m\u001b[0mself\u001b[0m\u001b[0;34m)\u001b[0m\u001b[0;34m:\u001b[0m\u001b[0;34m\u001b[0m\u001b[0;34m\u001b[0m\u001b[0m\n\u001b[0;32m--> 106\u001b[0;31m         \u001b[0;32mreturn\u001b[0m \u001b[0mself\u001b[0m\u001b[0;34m.\u001b[0m\u001b[0mpipe\u001b[0m\u001b[0;34m(\u001b[0m\u001b[0mformat\u001b[0m\u001b[0;34m=\u001b[0m\u001b[0;34m'svg'\u001b[0m\u001b[0;34m)\u001b[0m\u001b[0;34m.\u001b[0m\u001b[0mdecode\u001b[0m\u001b[0;34m(\u001b[0m\u001b[0mself\u001b[0m\u001b[0;34m.\u001b[0m\u001b[0m_encoding\u001b[0m\u001b[0;34m)\u001b[0m\u001b[0;34m\u001b[0m\u001b[0;34m\u001b[0m\u001b[0m\n\u001b[0m\u001b[1;32m    107\u001b[0m \u001b[0;34m\u001b[0m\u001b[0m\n\u001b[1;32m    108\u001b[0m     \u001b[0;32mdef\u001b[0m \u001b[0mpipe\u001b[0m\u001b[0;34m(\u001b[0m\u001b[0mself\u001b[0m\u001b[0;34m,\u001b[0m \u001b[0mformat\u001b[0m\u001b[0;34m=\u001b[0m\u001b[0;32mNone\u001b[0m\u001b[0;34m,\u001b[0m \u001b[0mrenderer\u001b[0m\u001b[0;34m=\u001b[0m\u001b[0;32mNone\u001b[0m\u001b[0;34m,\u001b[0m \u001b[0mformatter\u001b[0m\u001b[0;34m=\u001b[0m\u001b[0;32mNone\u001b[0m\u001b[0;34m)\u001b[0m\u001b[0;34m:\u001b[0m\u001b[0;34m\u001b[0m\u001b[0;34m\u001b[0m\u001b[0m\n",
            "\u001b[0;32m/usr/local/lib/python3.6/dist-packages/graphviz/files.py\u001b[0m in \u001b[0;36mpipe\u001b[0;34m(self, format, renderer, formatter)\u001b[0m\n\u001b[1;32m    126\u001b[0m         \u001b[0mdata\u001b[0m \u001b[0;34m=\u001b[0m \u001b[0mtext_type\u001b[0m\u001b[0;34m(\u001b[0m\u001b[0mself\u001b[0m\u001b[0;34m.\u001b[0m\u001b[0msource\u001b[0m\u001b[0;34m)\u001b[0m\u001b[0;34m.\u001b[0m\u001b[0mencode\u001b[0m\u001b[0;34m(\u001b[0m\u001b[0mself\u001b[0m\u001b[0;34m.\u001b[0m\u001b[0m_encoding\u001b[0m\u001b[0;34m)\u001b[0m\u001b[0;34m\u001b[0m\u001b[0;34m\u001b[0m\u001b[0m\n\u001b[1;32m    127\u001b[0m \u001b[0;34m\u001b[0m\u001b[0m\n\u001b[0;32m--> 128\u001b[0;31m         \u001b[0mout\u001b[0m \u001b[0;34m=\u001b[0m \u001b[0mbackend\u001b[0m\u001b[0;34m.\u001b[0m\u001b[0mpipe\u001b[0m\u001b[0;34m(\u001b[0m\u001b[0mself\u001b[0m\u001b[0;34m.\u001b[0m\u001b[0m_engine\u001b[0m\u001b[0;34m,\u001b[0m \u001b[0mformat\u001b[0m\u001b[0;34m,\u001b[0m \u001b[0mdata\u001b[0m\u001b[0;34m,\u001b[0m \u001b[0mrenderer\u001b[0m\u001b[0;34m,\u001b[0m \u001b[0mformatter\u001b[0m\u001b[0;34m)\u001b[0m\u001b[0;34m\u001b[0m\u001b[0;34m\u001b[0m\u001b[0m\n\u001b[0m\u001b[1;32m    129\u001b[0m \u001b[0;34m\u001b[0m\u001b[0m\n\u001b[1;32m    130\u001b[0m         \u001b[0;32mreturn\u001b[0m \u001b[0mout\u001b[0m\u001b[0;34m\u001b[0m\u001b[0;34m\u001b[0m\u001b[0m\n",
            "\u001b[0;32m/usr/local/lib/python3.6/dist-packages/graphviz/backend.py\u001b[0m in \u001b[0;36mpipe\u001b[0;34m(engine, format, data, renderer, formatter, quiet)\u001b[0m\n\u001b[1;32m    204\u001b[0m     \"\"\"\n\u001b[1;32m    205\u001b[0m     \u001b[0mcmd\u001b[0m\u001b[0;34m,\u001b[0m \u001b[0m_\u001b[0m \u001b[0;34m=\u001b[0m \u001b[0mcommand\u001b[0m\u001b[0;34m(\u001b[0m\u001b[0mengine\u001b[0m\u001b[0;34m,\u001b[0m \u001b[0mformat\u001b[0m\u001b[0;34m,\u001b[0m \u001b[0;32mNone\u001b[0m\u001b[0;34m,\u001b[0m \u001b[0mrenderer\u001b[0m\u001b[0;34m,\u001b[0m \u001b[0mformatter\u001b[0m\u001b[0;34m)\u001b[0m\u001b[0;34m\u001b[0m\u001b[0;34m\u001b[0m\u001b[0m\n\u001b[0;32m--> 206\u001b[0;31m     \u001b[0mout\u001b[0m\u001b[0;34m,\u001b[0m \u001b[0m_\u001b[0m \u001b[0;34m=\u001b[0m \u001b[0mrun\u001b[0m\u001b[0;34m(\u001b[0m\u001b[0mcmd\u001b[0m\u001b[0;34m,\u001b[0m \u001b[0minput\u001b[0m\u001b[0;34m=\u001b[0m\u001b[0mdata\u001b[0m\u001b[0;34m,\u001b[0m \u001b[0mcapture_output\u001b[0m\u001b[0;34m=\u001b[0m\u001b[0;32mTrue\u001b[0m\u001b[0;34m,\u001b[0m \u001b[0mcheck\u001b[0m\u001b[0;34m=\u001b[0m\u001b[0;32mTrue\u001b[0m\u001b[0;34m,\u001b[0m \u001b[0mquiet\u001b[0m\u001b[0;34m=\u001b[0m\u001b[0mquiet\u001b[0m\u001b[0;34m)\u001b[0m\u001b[0;34m\u001b[0m\u001b[0;34m\u001b[0m\u001b[0m\n\u001b[0m\u001b[1;32m    207\u001b[0m     \u001b[0;32mreturn\u001b[0m \u001b[0mout\u001b[0m\u001b[0;34m\u001b[0m\u001b[0;34m\u001b[0m\u001b[0m\n\u001b[1;32m    208\u001b[0m \u001b[0;34m\u001b[0m\u001b[0m\n",
            "\u001b[0;32m/usr/local/lib/python3.6/dist-packages/graphviz/backend.py\u001b[0m in \u001b[0;36mrun\u001b[0;34m(cmd, input, capture_output, check, quiet, **kwargs)\u001b[0m\n\u001b[1;32m    152\u001b[0m             \u001b[0;32mraise\u001b[0m\u001b[0;34m\u001b[0m\u001b[0;34m\u001b[0m\u001b[0m\n\u001b[1;32m    153\u001b[0m \u001b[0;34m\u001b[0m\u001b[0m\n\u001b[0;32m--> 154\u001b[0;31m     \u001b[0mout\u001b[0m\u001b[0;34m,\u001b[0m \u001b[0merr\u001b[0m \u001b[0;34m=\u001b[0m \u001b[0mproc\u001b[0m\u001b[0;34m.\u001b[0m\u001b[0mcommunicate\u001b[0m\u001b[0;34m(\u001b[0m\u001b[0minput\u001b[0m\u001b[0;34m)\u001b[0m\u001b[0;34m\u001b[0m\u001b[0;34m\u001b[0m\u001b[0m\n\u001b[0m\u001b[1;32m    155\u001b[0m \u001b[0;34m\u001b[0m\u001b[0m\n\u001b[1;32m    156\u001b[0m     \u001b[0;32mif\u001b[0m \u001b[0;32mnot\u001b[0m \u001b[0mquiet\u001b[0m \u001b[0;32mand\u001b[0m \u001b[0merr\u001b[0m\u001b[0;34m:\u001b[0m\u001b[0;34m\u001b[0m\u001b[0;34m\u001b[0m\u001b[0m\n",
            "\u001b[0;32m/usr/lib/python3.6/subprocess.py\u001b[0m in \u001b[0;36mcommunicate\u001b[0;34m(self, input, timeout)\u001b[0m\n\u001b[1;32m    841\u001b[0m \u001b[0;34m\u001b[0m\u001b[0m\n\u001b[1;32m    842\u001b[0m             \u001b[0;32mtry\u001b[0m\u001b[0;34m:\u001b[0m\u001b[0;34m\u001b[0m\u001b[0;34m\u001b[0m\u001b[0m\n\u001b[0;32m--> 843\u001b[0;31m                 \u001b[0mstdout\u001b[0m\u001b[0;34m,\u001b[0m \u001b[0mstderr\u001b[0m \u001b[0;34m=\u001b[0m \u001b[0mself\u001b[0m\u001b[0;34m.\u001b[0m\u001b[0m_communicate\u001b[0m\u001b[0;34m(\u001b[0m\u001b[0minput\u001b[0m\u001b[0;34m,\u001b[0m \u001b[0mendtime\u001b[0m\u001b[0;34m,\u001b[0m \u001b[0mtimeout\u001b[0m\u001b[0;34m)\u001b[0m\u001b[0;34m\u001b[0m\u001b[0;34m\u001b[0m\u001b[0m\n\u001b[0m\u001b[1;32m    844\u001b[0m             \u001b[0;32mfinally\u001b[0m\u001b[0;34m:\u001b[0m\u001b[0;34m\u001b[0m\u001b[0;34m\u001b[0m\u001b[0m\n\u001b[1;32m    845\u001b[0m                 \u001b[0mself\u001b[0m\u001b[0;34m.\u001b[0m\u001b[0m_communication_started\u001b[0m \u001b[0;34m=\u001b[0m \u001b[0;32mTrue\u001b[0m\u001b[0;34m\u001b[0m\u001b[0;34m\u001b[0m\u001b[0m\n",
            "\u001b[0;32m/usr/lib/python3.6/subprocess.py\u001b[0m in \u001b[0;36m_communicate\u001b[0;34m(self, input, endtime, orig_timeout)\u001b[0m\n\u001b[1;32m   1512\u001b[0m                         \u001b[0;32mraise\u001b[0m \u001b[0mTimeoutExpired\u001b[0m\u001b[0;34m(\u001b[0m\u001b[0mself\u001b[0m\u001b[0;34m.\u001b[0m\u001b[0margs\u001b[0m\u001b[0;34m,\u001b[0m \u001b[0morig_timeout\u001b[0m\u001b[0;34m)\u001b[0m\u001b[0;34m\u001b[0m\u001b[0;34m\u001b[0m\u001b[0m\n\u001b[1;32m   1513\u001b[0m \u001b[0;34m\u001b[0m\u001b[0m\n\u001b[0;32m-> 1514\u001b[0;31m                     \u001b[0mready\u001b[0m \u001b[0;34m=\u001b[0m \u001b[0mselector\u001b[0m\u001b[0;34m.\u001b[0m\u001b[0mselect\u001b[0m\u001b[0;34m(\u001b[0m\u001b[0mtimeout\u001b[0m\u001b[0;34m)\u001b[0m\u001b[0;34m\u001b[0m\u001b[0;34m\u001b[0m\u001b[0m\n\u001b[0m\u001b[1;32m   1515\u001b[0m                     \u001b[0mself\u001b[0m\u001b[0;34m.\u001b[0m\u001b[0m_check_timeout\u001b[0m\u001b[0;34m(\u001b[0m\u001b[0mendtime\u001b[0m\u001b[0;34m,\u001b[0m \u001b[0morig_timeout\u001b[0m\u001b[0;34m)\u001b[0m\u001b[0;34m\u001b[0m\u001b[0;34m\u001b[0m\u001b[0m\n\u001b[1;32m   1516\u001b[0m \u001b[0;34m\u001b[0m\u001b[0m\n",
            "\u001b[0;32m/usr/lib/python3.6/selectors.py\u001b[0m in \u001b[0;36mselect\u001b[0;34m(self, timeout)\u001b[0m\n\u001b[1;32m    374\u001b[0m             \u001b[0mready\u001b[0m \u001b[0;34m=\u001b[0m \u001b[0;34m[\u001b[0m\u001b[0;34m]\u001b[0m\u001b[0;34m\u001b[0m\u001b[0;34m\u001b[0m\u001b[0m\n\u001b[1;32m    375\u001b[0m             \u001b[0;32mtry\u001b[0m\u001b[0;34m:\u001b[0m\u001b[0;34m\u001b[0m\u001b[0;34m\u001b[0m\u001b[0m\n\u001b[0;32m--> 376\u001b[0;31m                 \u001b[0mfd_event_list\u001b[0m \u001b[0;34m=\u001b[0m \u001b[0mself\u001b[0m\u001b[0;34m.\u001b[0m\u001b[0m_poll\u001b[0m\u001b[0;34m.\u001b[0m\u001b[0mpoll\u001b[0m\u001b[0;34m(\u001b[0m\u001b[0mtimeout\u001b[0m\u001b[0;34m)\u001b[0m\u001b[0;34m\u001b[0m\u001b[0;34m\u001b[0m\u001b[0m\n\u001b[0m\u001b[1;32m    377\u001b[0m             \u001b[0;32mexcept\u001b[0m \u001b[0mInterruptedError\u001b[0m\u001b[0;34m:\u001b[0m\u001b[0;34m\u001b[0m\u001b[0;34m\u001b[0m\u001b[0m\n\u001b[1;32m    378\u001b[0m                 \u001b[0;32mreturn\u001b[0m \u001b[0mready\u001b[0m\u001b[0;34m\u001b[0m\u001b[0;34m\u001b[0m\u001b[0m\n",
            "\u001b[0;31mKeyboardInterrupt\u001b[0m: "
          ]
        }
      ]
    },
    {
      "cell_type": "code",
      "metadata": {
        "id": "uXujHtuJfaGK",
        "colab_type": "code",
        "colab": {
          "base_uri": "https://localhost:8080/",
          "height": 34
        },
        "outputId": "df7daccd-294c-4776-86ad-8878aefd3390"
      },
      "source": [
        "decision_tree_predictions = decision_tree.predict(X_matrix)\n",
        "\n",
        "accuracy_score(y_vector, decision_tree_predictions)"
      ],
      "execution_count": 39,
      "outputs": [
        {
          "output_type": "execute_result",
          "data": {
            "text/plain": [
              "0.9994781144781145"
            ]
          },
          "metadata": {
            "tags": []
          },
          "execution_count": 39
        }
      ]
    },
    {
      "cell_type": "code",
      "metadata": {
        "id": "jIyRAvuKfdyq",
        "colab_type": "code",
        "colab": {}
      },
      "source": [
        "from sklearn.metrics import classification_report, confusion_matrix\n",
        "\n",
        "def con_matrix_analysis(model):\n",
        "  x = model.predict(X_matrix)\n",
        "  \n",
        "  print(classification_report(y_vector, x,\n",
        "        target_names=['Functional', 'Needs Repair', 'Not-Functional']))\n",
        "\n",
        "  con_matrix = pd.DataFrame(confusion_matrix(y_vector, x), \n",
        "             columns=['Predicted Functional', 'Predicted Needs Repair', 'Predicted Not-Functional'], \n",
        "             index=['Actual Functional', 'Actual Needs Repair', 'Actual Not-Functional'])\n",
        "                            \n",
        "  sns.heatmap(data=con_matrix, cmap='cool')\n",
        "  plt.show();\n",
        "  return con_matrix"
      ],
      "execution_count": 0,
      "outputs": []
    },
    {
      "cell_type": "code",
      "metadata": {
        "id": "caEe4M3dffVx",
        "colab_type": "code",
        "colab": {
          "base_uri": "https://localhost:8080/",
          "height": 676
        },
        "outputId": "fc607246-9489-4b11-ed68-0410d7683129"
      },
      "source": [
        "import seaborn as sns\n",
        "\n",
        "con_matrix_analysis(decision_tree)"
      ],
      "execution_count": 41,
      "outputs": [
        {
          "output_type": "stream",
          "text": [
            "                precision    recall  f1-score   support\n",
            "\n",
            "    Functional       1.00      1.00      1.00     32259\n",
            "  Needs Repair       1.00      1.00      1.00      4317\n",
            "Not-Functional       1.00      1.00      1.00     22824\n",
            "\n",
            "      accuracy                           1.00     59400\n",
            "     macro avg       1.00      1.00      1.00     59400\n",
            "  weighted avg       1.00      1.00      1.00     59400\n",
            "\n"
          ],
          "name": "stdout"
        },
        {
          "output_type": "display_data",
          "data": {
            "image/png": "[encoded data removed]",
            "text/plain": [
              "<Figure size 432x288 with 2 Axes>"
            ]
          },
          "metadata": {
            "tags": []
          }
        },
        {
          "output_type": "execute_result",
          "data": {
            "text/html": [
              "<div>\n",
              "<style scoped>\n",
              "    .dataframe tbody tr th:only-of-type {\n",
              "        vertical-align: middle;\n",
              "    }\n",
              "\n",
              "    .dataframe tbody tr th {\n",
              "        vertical-align: top;\n",
              "    }\n",
              "\n",
              "    .dataframe thead th {\n",
              "        text-align: right;\n",
              "    }\n",
              "</style>\n",
              "<table border=\"1\" class=\"dataframe\">\n",
              "  <thead>\n",
              "    <tr style=\"text-align: right;\">\n",
              "      <th></th>\n",
              "      <th>Predicted Functional</th>\n",
              "      <th>Predicted Needs Repair</th>\n",
              "      <th>Predicted Not-Functional</th>\n",
              "    </tr>\n",
              "  </thead>\n",
              "  <tbody>\n",
              "    <tr>\n",
              "      <th>Actual Functional</th>\n",
              "      <td>32259</td>\n",
              "      <td>0</td>\n",
              "      <td>0</td>\n",
              "    </tr>\n",
              "    <tr>\n",
              "      <th>Actual Needs Repair</th>\n",
              "      <td>15</td>\n",
              "      <td>4302</td>\n",
              "      <td>0</td>\n",
              "    </tr>\n",
              "    <tr>\n",
              "      <th>Actual Not-Functional</th>\n",
              "      <td>15</td>\n",
              "      <td>1</td>\n",
              "      <td>22808</td>\n",
              "    </tr>\n",
              "  </tbody>\n",
              "</table>\n",
              "</div>"
            ],
            "text/plain": [
              "                       Predicted Functional  ...  Predicted Not-Functional\n",
              "Actual Functional                     32259  ...                         0\n",
              "Actual Needs Repair                      15  ...                         0\n",
              "Actual Not-Functional                    15  ...                     22808\n",
              "\n",
              "[3 rows x 3 columns]"
            ]
          },
          "metadata": {
            "tags": []
          },
          "execution_count": 41
        }
      ]
    },
    {
      "cell_type": "markdown",
      "metadata": {
        "id": "d4j4BID-mYnV",
        "colab_type": "text"
      },
      "source": [
        "Lets create an accurate model"
      ]
    },
    {
      "cell_type": "code",
      "metadata": {
        "id": "wftPqwGM3ln4",
        "colab_type": "code",
        "colab": {
          "base_uri": "https://localhost:8080/",
          "height": 655
        },
        "outputId": "c9a80658-35c3-4eb9-9cbd-5c15f00a1bed"
      },
      "source": [
        "from sklearn.model_selection import RandomizedSearchCV\n",
        "from sklearn.ensemble import RandomForestClassifier\n",
        "\n",
        "param_distributions = {\n",
        "    'max_depth': [25, 26, 27, 28]\n",
        "    #'n_estimators': [90, 91, 92, 93, 94]\n",
        "}\n",
        "\n",
        "gridsearch = RandomizedSearchCV(\n",
        "    RandomForestClassifier(n_estimators=92, n_jobs=-1, random_state=42), \n",
        "    param_distributions=param_distributions, \n",
        "    n_iter=5, \n",
        "    cv=5, \n",
        "    scoring='accuracy', \n",
        "    verbose=10, \n",
        "    return_train_score=True, \n",
        "    n_jobs=-1\n",
        ")\n",
        "\n",
        "gridsearch.fit(X_matrix, y_vector)"
      ],
      "execution_count": 42,
      "outputs": [
        {
          "output_type": "stream",
          "text": [
            "Fitting 5 folds for each of 4 candidates, totalling 20 fits\n"
          ],
          "name": "stdout"
        },
        {
          "output_type": "stream",
          "text": [
            "/usr/local/lib/python3.6/dist-packages/sklearn/model_selection/_search.py:266: UserWarning: The total space of parameters 4 is smaller than n_iter=5. Running 4 iterations. For exhaustive searches, use GridSearchCV.\n",
            "  % (grid_size, self.n_iter, grid_size), UserWarning)\n",
            "[Parallel(n_jobs=-1)]: Using backend LokyBackend with 2 concurrent workers.\n",
            "[Parallel(n_jobs=-1)]: Done   1 tasks      | elapsed:   35.0s\n",
            "[Parallel(n_jobs=-1)]: Done   4 tasks      | elapsed:  1.1min\n",
            "/usr/local/lib/python3.6/dist-packages/joblib/externals/loky/process_executor.py:700: UserWarning: A worker stopped while some jobs were given to the executor. This can be caused by a too short worker timeout or by a memory leak.\n",
            "  \"timeout or by a memory leak.\", UserWarning\n",
            "/usr/local/lib/python3.6/dist-packages/joblib/externals/loky/process_executor.py:700: UserWarning: A worker stopped while some jobs were given to the executor. This can be caused by a too short worker timeout or by a memory leak.\n",
            "  \"timeout or by a memory leak.\", UserWarning\n",
            "[Parallel(n_jobs=-1)]: Done   9 tasks      | elapsed:  2.8min\n",
            "[Parallel(n_jobs=-1)]: Done  14 tasks      | elapsed:  3.9min\n",
            "[Parallel(n_jobs=-1)]: Done  20 out of  20 | elapsed:  5.5min remaining:    0.0s\n",
            "[Parallel(n_jobs=-1)]: Done  20 out of  20 | elapsed:  5.5min finished\n"
          ],
          "name": "stderr"
        },
        {
          "output_type": "execute_result",
          "data": {
            "text/plain": [
              "RandomizedSearchCV(cv=5, error_score='raise-deprecating',\n",
              "                   estimator=RandomForestClassifier(bootstrap=True,\n",
              "                                                    class_weight=None,\n",
              "                                                    criterion='gini',\n",
              "                                                    max_depth=None,\n",
              "                                                    max_features='auto',\n",
              "                                                    max_leaf_nodes=None,\n",
              "                                                    min_impurity_decrease=0.0,\n",
              "                                                    min_impurity_split=None,\n",
              "                                                    min_samples_leaf=1,\n",
              "                                                    min_samples_split=2,\n",
              "                                                    min_weight_fraction_leaf=0.0,\n",
              "                                                    n_estimators=92, n_jobs=-1,\n",
              "                                                    oob_score=False,\n",
              "                                                    random_state=42, verbose=0,\n",
              "                                                    warm_start=False),\n",
              "                   iid='warn', n_iter=5, n_jobs=-1,\n",
              "                   param_distributions={'max_depth': [25, 26, 27, 28]},\n",
              "                   pre_dispatch='2*n_jobs', random_state=None, refit=True,\n",
              "                   return_train_score=True, scoring='accuracy', verbose=10)"
            ]
          },
          "metadata": {
            "tags": []
          },
          "execution_count": 42
        }
      ]
    },
    {
      "cell_type": "code",
      "metadata": {
        "id": "LlaR4qdI3_a4",
        "colab_type": "code",
        "colab": {
          "base_uri": "https://localhost:8080/",
          "height": 317
        },
        "outputId": "4ba4d86f-7343-4eb8-b3b7-825a2e615e3d"
      },
      "source": [
        "results = pd.DataFrame(gridsearch.cv_results_)\n",
        "print(f'Best result from search of {len(results)} parameter combinations')\n",
        "results.sort_values(by='rank_test_score').head(5)"
      ],
      "execution_count": 46,
      "outputs": [
        {
          "output_type": "stream",
          "text": [
            "Best result from search of 4 parameter combinations\n"
          ],
          "name": "stdout"
        },
        {
          "output_type": "execute_result",
          "data": {
            "text/html": [
              "<div>\n",
              "<style scoped>\n",
              "    .dataframe tbody tr th:only-of-type {\n",
              "        vertical-align: middle;\n",
              "    }\n",
              "\n",
              "    .dataframe tbody tr th {\n",
              "        vertical-align: top;\n",
              "    }\n",
              "\n",
              "    .dataframe thead th {\n",
              "        text-align: right;\n",
              "    }\n",
              "</style>\n",
              "<table border=\"1\" class=\"dataframe\">\n",
              "  <thead>\n",
              "    <tr style=\"text-align: right;\">\n",
              "      <th></th>\n",
              "      <th>mean_fit_time</th>\n",
              "      <th>std_fit_time</th>\n",
              "      <th>mean_score_time</th>\n",
              "      <th>std_score_time</th>\n",
              "      <th>param_max_depth</th>\n",
              "      <th>params</th>\n",
              "      <th>split0_test_score</th>\n",
              "      <th>split1_test_score</th>\n",
              "      <th>split2_test_score</th>\n",
              "      <th>split3_test_score</th>\n",
              "      <th>split4_test_score</th>\n",
              "      <th>mean_test_score</th>\n",
              "      <th>std_test_score</th>\n",
              "      <th>rank_test_score</th>\n",
              "      <th>split0_train_score</th>\n",
              "      <th>split1_train_score</th>\n",
              "      <th>split2_train_score</th>\n",
              "      <th>split3_train_score</th>\n",
              "      <th>split4_train_score</th>\n",
              "      <th>mean_train_score</th>\n",
              "      <th>std_train_score</th>\n",
              "    </tr>\n",
              "  </thead>\n",
              "  <tbody>\n",
              "    <tr>\n",
              "      <th>2</th>\n",
              "      <td>28.566819</td>\n",
              "      <td>0.283922</td>\n",
              "      <td>0.789299</td>\n",
              "      <td>0.056341</td>\n",
              "      <td>27</td>\n",
              "      <td>{'max_depth': 27}</td>\n",
              "      <td>0.813652</td>\n",
              "      <td>0.808939</td>\n",
              "      <td>0.812879</td>\n",
              "      <td>0.810354</td>\n",
              "      <td>0.809901</td>\n",
              "      <td>0.811145</td>\n",
              "      <td>0.001807</td>\n",
              "      <td>1</td>\n",
              "      <td>0.986721</td>\n",
              "      <td>0.987142</td>\n",
              "      <td>0.986869</td>\n",
              "      <td>0.986511</td>\n",
              "      <td>0.987900</td>\n",
              "      <td>0.987029</td>\n",
              "      <td>0.000482</td>\n",
              "    </tr>\n",
              "    <tr>\n",
              "      <th>1</th>\n",
              "      <td>29.373631</td>\n",
              "      <td>0.867791</td>\n",
              "      <td>0.811735</td>\n",
              "      <td>0.090054</td>\n",
              "      <td>26</td>\n",
              "      <td>{'max_depth': 26}</td>\n",
              "      <td>0.811295</td>\n",
              "      <td>0.807087</td>\n",
              "      <td>0.815067</td>\n",
              "      <td>0.810185</td>\n",
              "      <td>0.806533</td>\n",
              "      <td>0.810034</td>\n",
              "      <td>0.003095</td>\n",
              "      <td>2</td>\n",
              "      <td>0.980387</td>\n",
              "      <td>0.984259</td>\n",
              "      <td>0.980324</td>\n",
              "      <td>0.982428</td>\n",
              "      <td>0.984028</td>\n",
              "      <td>0.982285</td>\n",
              "      <td>0.001697</td>\n",
              "    </tr>\n",
              "    <tr>\n",
              "      <th>3</th>\n",
              "      <td>28.735539</td>\n",
              "      <td>0.261673</td>\n",
              "      <td>0.712012</td>\n",
              "      <td>0.199345</td>\n",
              "      <td>28</td>\n",
              "      <td>{'max_depth': 28}</td>\n",
              "      <td>0.812137</td>\n",
              "      <td>0.808265</td>\n",
              "      <td>0.810101</td>\n",
              "      <td>0.809680</td>\n",
              "      <td>0.809143</td>\n",
              "      <td>0.809865</td>\n",
              "      <td>0.001291</td>\n",
              "      <td>3</td>\n",
              "      <td>0.990383</td>\n",
              "      <td>0.991982</td>\n",
              "      <td>0.990004</td>\n",
              "      <td>0.991162</td>\n",
              "      <td>0.991709</td>\n",
              "      <td>0.991048</td>\n",
              "      <td>0.000756</td>\n",
              "    </tr>\n",
              "    <tr>\n",
              "      <th>0</th>\n",
              "      <td>29.936562</td>\n",
              "      <td>0.559509</td>\n",
              "      <td>0.734516</td>\n",
              "      <td>0.094591</td>\n",
              "      <td>25</td>\n",
              "      <td>{'max_depth': 25}</td>\n",
              "      <td>0.814241</td>\n",
              "      <td>0.807087</td>\n",
              "      <td>0.810269</td>\n",
              "      <td>0.809007</td>\n",
              "      <td>0.808301</td>\n",
              "      <td>0.809781</td>\n",
              "      <td>0.002457</td>\n",
              "      <td>4</td>\n",
              "      <td>0.972874</td>\n",
              "      <td>0.975231</td>\n",
              "      <td>0.972875</td>\n",
              "      <td>0.975737</td>\n",
              "      <td>0.976916</td>\n",
              "      <td>0.974726</td>\n",
              "      <td>0.001608</td>\n",
              "    </tr>\n",
              "  </tbody>\n",
              "</table>\n",
              "</div>"
            ],
            "text/plain": [
              "   mean_fit_time  std_fit_time  ...  mean_train_score  std_train_score\n",
              "2      28.566819      0.283922  ...          0.987029         0.000482\n",
              "1      29.373631      0.867791  ...          0.982285         0.001697\n",
              "3      28.735539      0.261673  ...          0.991048         0.000756\n",
              "0      29.936562      0.559509  ...          0.974726         0.001608\n",
              "\n",
              "[4 rows x 21 columns]"
            ]
          },
          "metadata": {
            "tags": []
          },
          "execution_count": 46
        }
      ]
    },
    {
      "cell_type": "code",
      "metadata": {
        "id": "Dsy_cGS64JBa",
        "colab_type": "code",
        "colab": {}
      },
      "source": [
        "model = gridsearch.best_estimator_"
      ],
      "execution_count": 0,
      "outputs": []
    },
    {
      "cell_type": "code",
      "metadata": {
        "id": "xVleGXjGKJvg",
        "colab_type": "code",
        "colab": {
          "base_uri": "https://localhost:8080/",
          "height": 676
        },
        "outputId": "ffd1bfd7-deab-427e-d1d2-8b98eee9a007"
      },
      "source": [
        "con_matrix_analysis(model)"
      ],
      "execution_count": 48,
      "outputs": [
        {
          "output_type": "stream",
          "text": [
            "                precision    recall  f1-score   support\n",
            "\n",
            "    Functional       0.97      1.00      0.99     32259\n",
            "  Needs Repair       1.00      0.92      0.96      4317\n",
            "Not-Functional       1.00      0.97      0.99     22824\n",
            "\n",
            "      accuracy                           0.98     59400\n",
            "     macro avg       0.99      0.96      0.98     59400\n",
            "  weighted avg       0.98      0.98      0.98     59400\n",
            "\n"
          ],
          "name": "stdout"
        },
        {
          "output_type": "display_data",
          "data": {
            "image/png": "[encoded data removed]",
            "text/plain": [
              "<Figure size 432x288 with 2 Axes>"
            ]
          },
          "metadata": {
            "tags": []
          }
        },
        {
          "output_type": "execute_result",
          "data": {
            "text/html": [
              "<div>\n",
              "<style scoped>\n",
              "    .dataframe tbody tr th:only-of-type {\n",
              "        vertical-align: middle;\n",
              "    }\n",
              "\n",
              "    .dataframe tbody tr th {\n",
              "        vertical-align: top;\n",
              "    }\n",
              "\n",
              "    .dataframe thead th {\n",
              "        text-align: right;\n",
              "    }\n",
              "</style>\n",
              "<table border=\"1\" class=\"dataframe\">\n",
              "  <thead>\n",
              "    <tr style=\"text-align: right;\">\n",
              "      <th></th>\n",
              "      <th>Predicted Functional</th>\n",
              "      <th>Predicted Needs Repair</th>\n",
              "      <th>Predicted Not-Functional</th>\n",
              "    </tr>\n",
              "  </thead>\n",
              "  <tbody>\n",
              "    <tr>\n",
              "      <th>Actual Functional</th>\n",
              "      <td>32238</td>\n",
              "      <td>0</td>\n",
              "      <td>21</td>\n",
              "    </tr>\n",
              "    <tr>\n",
              "      <th>Actual Needs Repair</th>\n",
              "      <td>348</td>\n",
              "      <td>3953</td>\n",
              "      <td>16</td>\n",
              "    </tr>\n",
              "    <tr>\n",
              "      <th>Actual Not-Functional</th>\n",
              "      <td>600</td>\n",
              "      <td>0</td>\n",
              "      <td>22224</td>\n",
              "    </tr>\n",
              "  </tbody>\n",
              "</table>\n",
              "</div>"
            ],
            "text/plain": [
              "                       Predicted Functional  ...  Predicted Not-Functional\n",
              "Actual Functional                     32238  ...                        21\n",
              "Actual Needs Repair                     348  ...                        16\n",
              "Actual Not-Functional                   600  ...                     22224\n",
              "\n",
              "[3 rows x 3 columns]"
            ]
          },
          "metadata": {
            "tags": []
          },
          "execution_count": 48
        }
      ]
    }
  ]
}