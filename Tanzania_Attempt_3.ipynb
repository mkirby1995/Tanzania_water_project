{
  "nbformat": 4,
  "nbformat_minor": 0,
  "metadata": {
    "colab": {
      "name": "Tanzania: Third Times The Charm.ipynb",
      "version": "0.3.2",
      "provenance": [],
      "include_colab_link": true
    },
    "kernelspec": {
      "name": "python3",
      "display_name": "Python 3"
    }
  },
  "cells": [
    {
      "cell_type": "markdown",
      "metadata": {
        "id": "view-in-github",
        "colab_type": "text"
      },
      "source": [
        "<a href=\"https://colab.research.google.com/github/mkirby1995/Tanzania_water_project/blob/master/Tanzania_Attempt_3.ipynb\" target=\"_parent\"><img src=\"https://colab.research.google.com/assets/colab-badge.svg\" alt=\"Open In Colab\"/></a>"
      ]
    },
    {
      "cell_type": "markdown",
      "metadata": {
        "id": "2nkRTiVdOVgJ",
        "colab_type": "text"
      },
      "source": [
        "# Data"
      ]
    },
    {
      "cell_type": "code",
      "metadata": {
        "id": "cqMHQdi6Dx2j",
        "colab_type": "code",
        "colab": {}
      },
      "source": [
        "import pandas as pd"
      ],
      "execution_count": 0,
      "outputs": []
    },
    {
      "cell_type": "code",
      "metadata": {
        "id": "Kl5nwtsKTCmR",
        "colab_type": "code",
        "colab": {}
      },
      "source": [
        "features = 'https://raw.githubusercontent.com/mkirby1995/Tanzania_water_project/master/train_features.csv'\n",
        "target = 'https://raw.githubusercontent.com/mkirby1995/Tanzania_water_project/master/train_labels.csv'\n",
        "\n",
        "features = pd.read_csv(features)\n",
        "labels = pd.read_csv(target)"
      ],
      "execution_count": 0,
      "outputs": []
    },
    {
      "cell_type": "code",
      "metadata": {
        "id": "6J3atuSO0mAC",
        "colab_type": "code",
        "colab": {}
      },
      "source": [
        "X_test = pd.read_csv('https://raw.githubusercontent.com/mkirby1995/Tanzania_water_project/master/test_features.csv')"
      ],
      "execution_count": 0,
      "outputs": []
    },
    {
      "cell_type": "markdown",
      "metadata": {
        "id": "qMABML4cOTV7",
        "colab_type": "text"
      },
      "source": [
        "# Clean"
      ]
    },
    {
      "cell_type": "code",
      "metadata": {
        "id": "LlFGI5JKO62r",
        "colab_type": "code",
        "outputId": "da629562-dd4e-4f3e-8ad3-880d94efc5b6",
        "colab": {
          "base_uri": "https://localhost:8080/",
          "height": 235
        }
      },
      "source": [
        "!pip install category_encoders"
      ],
      "execution_count": 0,
      "outputs": [
        {
          "output_type": "stream",
          "text": [
            "Requirement already satisfied: category_encoders in /usr/local/lib/python3.6/dist-packages (2.0.0)\n",
            "Requirement already satisfied: scipy>=0.19.0 in /usr/local/lib/python3.6/dist-packages (from category_encoders) (1.3.0)\n",
            "Requirement already satisfied: scikit-learn>=0.20.0 in /usr/local/lib/python3.6/dist-packages (from category_encoders) (0.21.1)\n",
            "Requirement already satisfied: statsmodels>=0.6.1 in /usr/local/lib/python3.6/dist-packages (from category_encoders) (0.9.0)\n",
            "Requirement already satisfied: numpy>=1.11.3 in /usr/local/lib/python3.6/dist-packages (from category_encoders) (1.16.3)\n",
            "Requirement already satisfied: patsy>=0.4.1 in /usr/local/lib/python3.6/dist-packages (from category_encoders) (0.5.1)\n",
            "Requirement already satisfied: pandas>=0.21.1 in /usr/local/lib/python3.6/dist-packages (from category_encoders) (0.24.2)\n",
            "Requirement already satisfied: joblib>=0.11 in /usr/local/lib/python3.6/dist-packages (from scikit-learn>=0.20.0->category_encoders) (0.12.5)\n",
            "Requirement already satisfied: six in /usr/local/lib/python3.6/dist-packages (from patsy>=0.4.1->category_encoders) (1.12.0)\n",
            "Requirement already satisfied: python-dateutil>=2.5.0 in /usr/local/lib/python3.6/dist-packages (from pandas>=0.21.1->category_encoders) (2.5.3)\n",
            "Requirement already satisfied: pytz>=2011k in /usr/local/lib/python3.6/dist-packages (from pandas>=0.21.1->category_encoders) (2018.9)\n"
          ],
          "name": "stdout"
        }
      ]
    },
    {
      "cell_type": "code",
      "metadata": {
        "id": "rFv2-PfKO9PE",
        "colab_type": "code",
        "colab": {}
      },
      "source": [
        "import category_encoders as ce\n",
        "import matplotlib.pyplot as plt\n",
        "import seaborn as sns\n",
        "from sklearn.preprocessing import RobustScaler\n",
        "from sklearn.impute import SimpleImputer\n",
        "import numpy as np"
      ],
      "execution_count": 0,
      "outputs": []
    },
    {
      "cell_type": "code",
      "metadata": {
        "id": "NCzAC4pVOYUk",
        "colab_type": "code",
        "colab": {}
      },
      "source": [
        "def reverse_cardinality_check(n, df):\n",
        "  \"\"\"\n",
        "  Given a cardinality limit (n) and a dataframe this function will search the\n",
        "  dataframe for features above the cardinality limit, then create a dict\n",
        "  from the results\n",
        "  \"\"\"\n",
        "  \n",
        "  feature_list = []\n",
        "  \n",
        "  cardinality_value = []\n",
        "  \n",
        "  for _ in range(len(df.columns)):\n",
        "    if len(df[df.columns[_]].value_counts()) > n:\n",
        "      \n",
        "      feature_list.append(df.columns[_])\n",
        "      \n",
        "      cardinality_value.append(len(df[df.columns[_]].value_counts()))\n",
        "                               \n",
        "        \n",
        "  feature_dict = dict(zip(feature_list, cardinality_value))\n",
        "  \n",
        "  return feature_dict"
      ],
      "execution_count": 0,
      "outputs": []
    },
    {
      "cell_type": "markdown",
      "metadata": {
        "id": "XRWuAzBhxWyO",
        "colab_type": "text"
      },
      "source": [
        "## Exploration"
      ]
    },
    {
      "cell_type": "code",
      "metadata": {
        "id": "zSpFa1Rc1Cdv",
        "colab_type": "code",
        "colab": {}
      },
      "source": [
        "features['construction_year'] = features['construction_year'].replace({0:1993})\n",
        "features['age'] = features['date_recorded'].astype(str).str[:4].astype(int) - features['construction_year']\n",
        "features['pop/year'] = features['population'].replace({0:1}) / features['age'].replace({0:1})"
      ],
      "execution_count": 0,
      "outputs": []
    },
    {
      "cell_type": "code",
      "metadata": {
        "id": "GCC10g562NYs",
        "colab_type": "code",
        "colab": {}
      },
      "source": [
        "X_test['construction_year'] = X_test['construction_year'].replace({0:1993})\n",
        "X_test['age'] = X_test['date_recorded'].astype(str).str[:4].astype(int) - X_test['construction_year']\n",
        "X_test['pop/year'] = X_test['population'].replace({0:1}) / X_test['age'].replace({0:1})"
      ],
      "execution_count": 0,
      "outputs": []
    },
    {
      "cell_type": "code",
      "metadata": {
        "id": "PNSHYw-fE7uv",
        "colab_type": "code",
        "colab": {}
      },
      "source": [
        "features['water_/_person'] = features['amount_tsh'].replace({0:1}) / features['population'].replace({0:1})"
      ],
      "execution_count": 0,
      "outputs": []
    },
    {
      "cell_type": "code",
      "metadata": {
        "id": "uBWGoH35Nkqq",
        "colab_type": "code",
        "colab": {}
      },
      "source": [
        "X_test['water_/_person'] = X_test['amount_tsh'].replace({0:1}) / X_test['population'].replace({0:1})"
      ],
      "execution_count": 0,
      "outputs": []
    },
    {
      "cell_type": "markdown",
      "metadata": {
        "id": "JjVU0x6Xq5pa",
        "colab_type": "text"
      },
      "source": [
        "## Features"
      ]
    },
    {
      "cell_type": "code",
      "metadata": {
        "id": "IFACFQwvOn4k",
        "colab_type": "code",
        "outputId": "24a051ac-665b-42ed-dcc3-5ff5e86b91b0",
        "colab": {
          "base_uri": "https://localhost:8080/",
          "height": 269
        }
      },
      "source": [
        "high_cardinality_feature_dict = reverse_cardinality_check(150, features)\n",
        "high_cardinality_feature_dict"
      ],
      "execution_count": 0,
      "outputs": [
        {
          "output_type": "execute_result",
          "data": {
            "text/plain": [
              "{'date_recorded': 356,\n",
              " 'funder': 1897,\n",
              " 'gps_height': 2428,\n",
              " 'id': 59400,\n",
              " 'installer': 2145,\n",
              " 'latitude': 57517,\n",
              " 'longitude': 57516,\n",
              " 'pop/year': 4421,\n",
              " 'population': 1049,\n",
              " 'scheme_name': 2696,\n",
              " 'subvillage': 19287,\n",
              " 'ward': 2092,\n",
              " 'water_/_person': 2633,\n",
              " 'wpt_name': 37400}"
            ]
          },
          "metadata": {
            "tags": []
          },
          "execution_count": 11
        }
      ]
    },
    {
      "cell_type": "code",
      "metadata": {
        "id": "g5gHUxUjPOdY",
        "colab_type": "code",
        "outputId": "9fd03e21-3147-496d-c248-778c167a1de4",
        "colab": {
          "base_uri": "https://localhost:8080/",
          "height": 161
        }
      },
      "source": [
        "low_cardinality_features = features.drop(columns = list(high_cardinality_feature_dict.keys()))\n",
        "low_cardinality_features.columns"
      ],
      "execution_count": 0,
      "outputs": [
        {
          "output_type": "execute_result",
          "data": {
            "text/plain": [
              "Index(['amount_tsh', 'num_private', 'basin', 'region', 'region_code',\n",
              "       'district_code', 'lga', 'public_meeting', 'recorded_by',\n",
              "       'scheme_management', 'permit', 'construction_year', 'extraction_type',\n",
              "       'extraction_type_group', 'extraction_type_class', 'management',\n",
              "       'management_group', 'payment', 'payment_type', 'water_quality',\n",
              "       'quality_group', 'quantity', 'quantity_group', 'source', 'source_type',\n",
              "       'source_class', 'waterpoint_type', 'waterpoint_type_group', 'age'],\n",
              "      dtype='object')"
            ]
          },
          "metadata": {
            "tags": []
          },
          "execution_count": 12
        }
      ]
    },
    {
      "cell_type": "code",
      "metadata": {
        "id": "pE7qxOQNPg6h",
        "colab_type": "code",
        "outputId": "619d3850-5c99-4ead-a1e3-40d013c3a9a9",
        "colab": {
          "base_uri": "https://localhost:8080/",
          "height": 89
        }
      },
      "source": [
        "high_cardinality_features = features[list(high_cardinality_feature_dict.keys())]\n",
        "high_cardinality_features.columns"
      ],
      "execution_count": 0,
      "outputs": [
        {
          "output_type": "execute_result",
          "data": {
            "text/plain": [
              "Index(['id', 'date_recorded', 'funder', 'gps_height', 'installer', 'longitude',\n",
              "       'latitude', 'wpt_name', 'subvillage', 'ward', 'population',\n",
              "       'scheme_name', 'pop/year', 'water_/_person'],\n",
              "      dtype='object')"
            ]
          },
          "metadata": {
            "tags": []
          },
          "execution_count": 13
        }
      ]
    },
    {
      "cell_type": "code",
      "metadata": {
        "id": "BDJryB4rPy9L",
        "colab_type": "code",
        "colab": {}
      },
      "source": [
        "one_hot_encode = ce.OneHotEncoder(use_cat_names=True)\n",
        "one_hot_encode.fit(low_cardinality_features, labels['status_group'])\n",
        "low_cardinality_features = one_hot_encode.transform(low_cardinality_features)\n",
        "\n",
        "ordinal_encode = ce.OrdinalEncoder()\n",
        "ordinal_encode.fit(high_cardinality_features, labels['status_group'])\n",
        "high_cardinality_features = ordinal_encode.transform(high_cardinality_features)"
      ],
      "execution_count": 0,
      "outputs": []
    },
    {
      "cell_type": "code",
      "metadata": {
        "id": "s2jPAVqCQbdg",
        "colab_type": "code",
        "colab": {}
      },
      "source": [
        "features = low_cardinality_features.merge(high_cardinality_features,\n",
        "                                          on = low_cardinality_features.index)"
      ],
      "execution_count": 0,
      "outputs": []
    },
    {
      "cell_type": "code",
      "metadata": {
        "id": "vlXBbSjmtlKZ",
        "colab_type": "code",
        "outputId": "d0868c52-4237-4fb5-9536-3d81fc1cf5f0",
        "colab": {
          "base_uri": "https://localhost:8080/",
          "height": 143
        }
      },
      "source": [
        "feature_names = features.columns\n",
        "feature_names"
      ],
      "execution_count": 0,
      "outputs": [
        {
          "output_type": "execute_result",
          "data": {
            "text/plain": [
              "Index(['key_0', 'amount_tsh', 'num_private', 'basin_Lake Nyasa',\n",
              "       'basin_Lake Victoria', 'basin_Pangani', 'basin_Ruvuma / Southern Coast',\n",
              "       'basin_Internal', 'basin_Lake Tanganyika', 'basin_Wami / Ruvu',\n",
              "       ...\n",
              "       'installer', 'longitude', 'latitude', 'wpt_name', 'subvillage', 'ward',\n",
              "       'population', 'scheme_name', 'pop/year', 'water_/_person'],\n",
              "      dtype='object', length=322)"
            ]
          },
          "metadata": {
            "tags": []
          },
          "execution_count": 16
        }
      ]
    },
    {
      "cell_type": "code",
      "metadata": {
        "id": "lCfUMTzAReSQ",
        "colab_type": "code",
        "colab": {}
      },
      "source": [
        "imputer = SimpleImputer(missing_values=np.nan, strategy='mean')\n",
        "imputer.fit(features, labels['status_group'])\n",
        "features = imputer.transform(features)"
      ],
      "execution_count": 0,
      "outputs": []
    },
    {
      "cell_type": "code",
      "metadata": {
        "id": "kMbCLznxSIJu",
        "colab_type": "code",
        "colab": {}
      },
      "source": [
        "scaler = RobustScaler()\n",
        "scaler.fit(features, labels['status_group'])\n",
        "features = scaler.transform(features)"
      ],
      "execution_count": 0,
      "outputs": []
    },
    {
      "cell_type": "code",
      "metadata": {
        "id": "a57kVHn7RlVV",
        "colab_type": "code",
        "outputId": "1a7216ba-39ae-448b-d3a5-de9314af1ce4",
        "colab": {
          "base_uri": "https://localhost:8080/",
          "height": 35
        }
      },
      "source": [
        "from sklearn.cluster import KMeans\n",
        "\n",
        "longlat = pd.read_csv('https://raw.githubusercontent.com/mkirby1995/Tanzania_water_project/master/train_features.csv')\n",
        "\n",
        "coordinates = longlat[['longitude', 'latitude']]\n",
        "\n",
        "kmeans = KMeans(n_clusters=1500)\n",
        "\n",
        "kmeans.fit(coordinates)\n",
        "\n",
        "pd.Series(kmeans.labels_)"
      ],
      "execution_count": 0,
      "outputs": [
        {
          "output_type": "execute_result",
          "data": {
            "text/plain": [
              "array([ 607,  383,  857, ..., 1353,  874,  470], dtype=int32)"
            ]
          },
          "metadata": {
            "tags": []
          },
          "execution_count": 20
        }
      ]
    },
    {
      "cell_type": "code",
      "metadata": {
        "id": "i352l4esc6is",
        "colab_type": "code",
        "outputId": "eb196380-8de8-4eac-ca5a-54795865ddf0",
        "colab": {
          "base_uri": "https://localhost:8080/",
          "height": 171
        }
      },
      "source": [
        "features['geo_cluster'] = pd.Series(kmeans.labels_)"
      ],
      "execution_count": 0,
      "outputs": [
        {
          "output_type": "error",
          "ename": "IndexError",
          "evalue": "ignored",
          "traceback": [
            "\u001b[0;31m---------------------------------------------------------------------------\u001b[0m",
            "\u001b[0;31mIndexError\u001b[0m                                Traceback (most recent call last)",
            "\u001b[0;32m<ipython-input-22-16853c9a8601>\u001b[0m in \u001b[0;36m<module>\u001b[0;34m()\u001b[0m\n\u001b[0;32m----> 1\u001b[0;31m \u001b[0mfeatures\u001b[0m\u001b[0;34m[\u001b[0m\u001b[0;34m'geo_cluster'\u001b[0m\u001b[0;34m]\u001b[0m \u001b[0;34m=\u001b[0m \u001b[0mpd\u001b[0m\u001b[0;34m.\u001b[0m\u001b[0mSeries\u001b[0m\u001b[0;34m(\u001b[0m\u001b[0mkmeans\u001b[0m\u001b[0;34m.\u001b[0m\u001b[0mlabels_\u001b[0m\u001b[0;34m)\u001b[0m\u001b[0;34m\u001b[0m\u001b[0;34m\u001b[0m\u001b[0m\n\u001b[0m",
            "\u001b[0;31mIndexError\u001b[0m: only integers, slices (`:`), ellipsis (`...`), numpy.newaxis (`None`) and integer or boolean arrays are valid indices"
          ]
        }
      ]
    },
    {
      "cell_type": "markdown",
      "metadata": {
        "id": "xhS39pdiq8hL",
        "colab_type": "text"
      },
      "source": [
        "## X_test"
      ]
    },
    {
      "cell_type": "code",
      "metadata": {
        "id": "3JqbVEPeq3yg",
        "colab_type": "code",
        "colab": {}
      },
      "source": [
        "high_cardinality_X_test_dict = reverse_cardinality_check(150, X_test)\n",
        "high_cardinality_X_test_dict"
      ],
      "execution_count": 0,
      "outputs": []
    },
    {
      "cell_type": "code",
      "metadata": {
        "id": "Wz8D7ZH3rDXN",
        "colab_type": "code",
        "colab": {}
      },
      "source": [
        "low_cardinality_X_test = X_test.drop(columns = list(high_cardinality_X_test_dict.keys()))\n",
        "low_cardinality_X_test.columns"
      ],
      "execution_count": 0,
      "outputs": []
    },
    {
      "cell_type": "code",
      "metadata": {
        "id": "cg0c1EmnrO_7",
        "colab_type": "code",
        "colab": {}
      },
      "source": [
        "high_cardinality_X_test = X_test[list(high_cardinality_X_test_dict.keys())]\n",
        "high_cardinality_X_test.columns"
      ],
      "execution_count": 0,
      "outputs": []
    },
    {
      "cell_type": "code",
      "metadata": {
        "id": "ag048gPdrV_f",
        "colab_type": "code",
        "colab": {}
      },
      "source": [
        "low_cardinality_X_test = one_hot_encode.transform(low_cardinality_X_test)"
      ],
      "execution_count": 0,
      "outputs": []
    },
    {
      "cell_type": "code",
      "metadata": {
        "id": "OWqqgzrGrWHt",
        "colab_type": "code",
        "colab": {}
      },
      "source": [
        "high_cardinality_X_test = ordinal_encode.transform(high_cardinality_X_test)"
      ],
      "execution_count": 0,
      "outputs": []
    },
    {
      "cell_type": "code",
      "metadata": {
        "id": "ZqUrnyLQrd4e",
        "colab_type": "code",
        "colab": {}
      },
      "source": [
        "X_test = low_cardinality_X_test.merge(high_cardinality_X_test,\n",
        "                                          on = low_cardinality_X_test.index)"
      ],
      "execution_count": 0,
      "outputs": []
    },
    {
      "cell_type": "code",
      "metadata": {
        "id": "4Sv6qDbbrkmQ",
        "colab_type": "code",
        "colab": {}
      },
      "source": [
        "X_test = imputer.transform(X_test)"
      ],
      "execution_count": 0,
      "outputs": []
    },
    {
      "cell_type": "code",
      "metadata": {
        "id": "fpIW_ARcrlxf",
        "colab_type": "code",
        "colab": {}
      },
      "source": [
        "X_test = scaler.transform(X_test)"
      ],
      "execution_count": 0,
      "outputs": []
    },
    {
      "cell_type": "code",
      "metadata": {
        "id": "ddV7lBFPRzzs",
        "colab_type": "code",
        "colab": {}
      },
      "source": [
        "test_longlat = pd.dataFrame(pd.read_csv('https://raw.githubusercontent.com/mkirby1995/Tanzania_water_project/master/train_labels.csv'))\n",
        "\n",
        "test_coordinates = test_longlat[['longitude', 'latitude']]\n",
        "\n",
        "kmeans.fit(test_coordinates)\n",
        "\n",
        "X_test['geo_cluster'] = kmeans.labels_"
      ],
      "execution_count": 0,
      "outputs": []
    },
    {
      "cell_type": "markdown",
      "metadata": {
        "id": "lA729XcVO06G",
        "colab_type": "text"
      },
      "source": [
        "# Model"
      ]
    },
    {
      "cell_type": "code",
      "metadata": {
        "id": "yuXhDSsDO1sw",
        "colab_type": "code",
        "colab": {}
      },
      "source": [
        "from sklearn.metrics import accuracy_score\n",
        "from sklearn.model_selection import cross_validate"
      ],
      "execution_count": 0,
      "outputs": []
    },
    {
      "cell_type": "code",
      "metadata": {
        "id": "l51lMB-TTMi7",
        "colab_type": "code",
        "colab": {}
      },
      "source": [
        "target = labels['status_group']"
      ],
      "execution_count": 0,
      "outputs": []
    },
    {
      "cell_type": "code",
      "metadata": {
        "id": "__ze8xoTS-ok",
        "colab_type": "code",
        "colab": {}
      },
      "source": [
        "from sklearn.metrics import classification_report, confusion_matrix\n",
        "\n",
        "def con_matrix_analysis(model):\n",
        "  x = model.predict(features)\n",
        "  y = target\n",
        "  \n",
        "  print(classification_report(y, x,\n",
        "        target_names=['Functional', 'Needs Repair', 'Not-Functional']))\n",
        "\n",
        "  con_matrix = pd.DataFrame(confusion_matrix(y, x), \n",
        "             columns=['Predicted Functional', 'Predicted Needs Repair', 'Predicted Not-Functional'], \n",
        "             index=['Actual Functional', 'Actual Needs Repair', 'Actual Not-Functional'])\n",
        "                            \n",
        "  sns.heatmap(data=con_matrix, cmap='cool')\n",
        "  plt.show();\n",
        "  return con_matrix"
      ],
      "execution_count": 0,
      "outputs": []
    },
    {
      "cell_type": "code",
      "metadata": {
        "id": "bwsC6ofjTG4I",
        "colab_type": "code",
        "colab": {}
      },
      "source": [
        "from sklearn.ensemble import RandomForestClassifier"
      ],
      "execution_count": 0,
      "outputs": []
    },
    {
      "cell_type": "markdown",
      "metadata": {
        "id": "3cgN85h8s8-O",
        "colab_type": "text"
      },
      "source": [
        "# Model Analysis"
      ]
    },
    {
      "cell_type": "markdown",
      "metadata": {
        "id": "_8s3jzbn3jmK",
        "colab_type": "text"
      },
      "source": [
        "## Cross Validation"
      ]
    },
    {
      "cell_type": "code",
      "metadata": {
        "id": "wftPqwGM3ln4",
        "colab_type": "code",
        "colab": {}
      },
      "source": [
        "from sklearn.model_selection import RandomizedSearchCV\n",
        "\n",
        "param_distributions = {\n",
        "    'max_depth': [25, 26, 27, 28, 29]\n",
        "}\n",
        "\n",
        "gridsearch = RandomizedSearchCV(\n",
        "    RandomForestClassifier(n_estimators=92, n_jobs=-1, random_state=42), \n",
        "    param_distributions=param_distributions, \n",
        "    n_iter=5, \n",
        "    cv=5, \n",
        "    scoring='accuracy', \n",
        "    verbose=10, \n",
        "    return_train_score=True, \n",
        "    n_jobs=-1\n",
        ")\n",
        "\n",
        "gridsearch.fit(features, target)"
      ],
      "execution_count": 0,
      "outputs": []
    },
    {
      "cell_type": "code",
      "metadata": {
        "id": "LlaR4qdI3_a4",
        "colab_type": "code",
        "colab": {}
      },
      "source": [
        "results = pd.DataFrame(gridsearch.cv_results_)\n",
        "print(f'Best result from search of {len(results)} parameter combinations')\n",
        "results.sort_values(by='rank_test_score').head(5)"
      ],
      "execution_count": 0,
      "outputs": []
    },
    {
      "cell_type": "code",
      "metadata": {
        "id": "Dsy_cGS64JBa",
        "colab_type": "code",
        "colab": {}
      },
      "source": [
        "model = gridsearch.best_estimator_"
      ],
      "execution_count": 0,
      "outputs": []
    },
    {
      "cell_type": "code",
      "metadata": {
        "id": "xVleGXjGKJvg",
        "colab_type": "code",
        "colab": {}
      },
      "source": [
        "con_matrix_analysis(model)"
      ],
      "execution_count": 0,
      "outputs": []
    },
    {
      "cell_type": "markdown",
      "metadata": {
        "id": "SvK7EUYJ3lv2",
        "colab_type": "text"
      },
      "source": [
        "## feature Importance"
      ]
    },
    {
      "cell_type": "markdown",
      "metadata": {
        "id": "GvCFv1Xsrt1D",
        "colab_type": "text"
      },
      "source": [
        "# Export"
      ]
    },
    {
      "cell_type": "code",
      "metadata": {
        "id": "CTE5b-vbyFXu",
        "colab_type": "code",
        "colab": {}
      },
      "source": [
        "# estimator is your model or pipeline, which you've fit on X_train\n",
        "\n",
        "# X_test is your pandas dataframe or numpy array, \n",
        "# with the same number of rows, in the same order, as test_features.csv, \n",
        "# and the same number of columns, in the same order, as X_train\n",
        "\n",
        "y_pred = model.predict(X_test)\n",
        "\n",
        "\n",
        "# Makes a dataframe with two columns, id and status_group, \n",
        "# and writes to a csv file, without the index\n",
        "\n",
        "sample_submission = pd.read_csv('https://raw.githubusercontent.com/mkirby1995/Tanzania_water_project/master/sample_submission.csv')\n",
        "submission = sample_submission.copy()\n"
      ],
      "execution_count": 0,
      "outputs": []
    },
    {
      "cell_type": "code",
      "metadata": {
        "id": "8b8U3MzEz6GR",
        "colab_type": "code",
        "colab": {}
      },
      "source": [
        "submission.shape, y_pred.shape"
      ],
      "execution_count": 0,
      "outputs": []
    },
    {
      "cell_type": "code",
      "metadata": {
        "id": "Nh3t3GTvz49w",
        "colab_type": "code",
        "colab": {}
      },
      "source": [
        "submission['status_group'] = y_pred\n",
        "submission.to_csv('submission_1.csv', index=False)"
      ],
      "execution_count": 0,
      "outputs": []
    },
    {
      "cell_type": "code",
      "metadata": {
        "id": "M_D7iHRFLd8W",
        "colab_type": "code",
        "colab": {}
      },
      "source": [
        "from google.colab import files\n",
        "files.download('submission_1.csv') "
      ],
      "execution_count": 0,
      "outputs": []
    }
  ]
}